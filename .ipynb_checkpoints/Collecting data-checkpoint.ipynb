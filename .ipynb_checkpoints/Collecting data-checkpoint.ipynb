{
 "cells": [
  {
   "cell_type": "code",
   "execution_count": 1,
   "metadata": {},
   "outputs": [
    {
     "name": "stdout",
     "output_type": "stream",
     "text": [
      "Python 3.11.4\n"
     ]
    }
   ],
   "source": [
    "!python --version"
   ]
  },
  {
   "cell_type": "code",
   "execution_count": 2,
   "metadata": {},
   "outputs": [
    {
     "name": "stdout",
     "output_type": "stream",
     "text": [
      "Requirement already satisfied: pip in c:\\users\\eduar\\appdata\\local\\programs\\python\\python311\\lib\\site-packages (23.3.1)\n"
     ]
    }
   ],
   "source": [
    "!python -m pip install --upgrade pip"
   ]
  },
  {
   "cell_type": "code",
   "execution_count": 3,
   "metadata": {
    "collapsed": false,
    "jupyter": {
     "outputs_hidden": false
    },
    "scrolled": true
   },
   "outputs": [
    {
     "name": "stdout",
     "output_type": "stream",
     "text": [
      "Requirement already satisfied: phub in c:\\users\\eduar\\appdata\\local\\programs\\python\\python311\\lib\\site-packages (4.1.3)\n",
      "Requirement already satisfied: requests in c:\\users\\eduar\\appdata\\local\\programs\\python\\python311\\lib\\site-packages (from phub) (2.31.0)\n",
      "Requirement already satisfied: charset-normalizer<4,>=2 in c:\\users\\eduar\\appdata\\local\\programs\\python\\python311\\lib\\site-packages (from requests->phub) (3.1.0)\n",
      "Requirement already satisfied: idna<4,>=2.5 in c:\\users\\eduar\\appdata\\local\\programs\\python\\python311\\lib\\site-packages (from requests->phub) (3.4)\n",
      "Requirement already satisfied: urllib3<3,>=1.21.1 in c:\\users\\eduar\\appdata\\local\\programs\\python\\python311\\lib\\site-packages (from requests->phub) (1.26.15)\n",
      "Requirement already satisfied: certifi>=2017.4.17 in c:\\users\\eduar\\appdata\\local\\programs\\python\\python311\\lib\\site-packages (from requests->phub) (2022.12.7)\n"
     ]
    }
   ],
   "source": [
    "!pip install --upgrade phub"
   ]
  },
  {
   "cell_type": "code",
   "execution_count": 4,
   "metadata": {
    "scrolled": true
   },
   "outputs": [
    {
     "name": "stderr",
     "output_type": "stream",
     "text": [
      "ERROR: Could not find a version that satisfies the requirement pyats (from versions: none)\n",
      "ERROR: No matching distribution found for pyats\n"
     ]
    }
   ],
   "source": [
    "!pip install pyats"
   ]
  },
  {
   "cell_type": "code",
   "execution_count": 7,
   "metadata": {},
   "outputs": [],
   "source": [
    "import pickle"
   ]
  },
  {
   "cell_type": "code",
   "execution_count": 6,
   "metadata": {},
   "outputs": [],
   "source": [
    "pool = ['Alex-Adams']\n",
    "with open(\"pool_file\", \"wb\") as fp:   #Pickling\n",
    "    pickle.dump(pool, fp)"
   ]
  },
  {
   "cell_type": "code",
   "execution_count": 57,
   "metadata": {},
   "outputs": [],
   "source": [
    "with open(\"searched_file\", \"wb\") as fp:   #Pickling\n",
    "    pickle.dump([], fp)"
   ]
  },
  {
   "cell_type": "code",
   "execution_count": 2,
   "metadata": {},
   "outputs": [],
   "source": [
    "with open(\"videos_participants_file\", \"wb\") as fp:   #Pickling\n",
    "    pickle.dump([], fp)"
   ]
  },
  {
   "cell_type": "code",
   "execution_count": 3,
   "metadata": {},
   "outputs": [],
   "source": [
    "with open(\"videos_file\", \"wb\") as fp:   #Pickling\n",
    "    pickle.dump([], fp)"
   ]
  },
  {
   "cell_type": "code",
   "execution_count": 20,
   "metadata": {},
   "outputs": [],
   "source": [
    "from multiprocessing import Semaphore\n",
    "from multiprocessing.pool import Pool"
   ]
  },
  {
   "cell_type": "code",
   "execution_count": 21,
   "metadata": {},
   "outputs": [],
   "source": [
    "semaphore = Semaphore(1)"
   ]
  },
  {
   "cell_type": "code",
   "execution_count": 22,
   "metadata": {},
   "outputs": [],
   "source": [
    "def task(identifier):\n",
    "    import pickle\n",
    "    import phub\n",
    "    def atualize_and_get(n_pool, n_videos, n_videos_participants, searched_star):\n",
    "        with open(\"videos_file\", \"rb\") as videos_file:\n",
    "            videos = pickle.load(videos_file)\n",
    "        with open(\"videos_file\", \"wb\") as videos_file:\n",
    "            pickle.dump(videos + n_videos, videos_file)\n",
    "            \n",
    "        with open(\"searched_file\", \"rb\") as searched_file:\n",
    "            searched_stars = pickle.load(searched_file)\n",
    "        for p in n_pool:\n",
    "            if p in searched_stars:\n",
    "                n_pool.remove(p)\n",
    "        searched_stars.append(searched_star)\n",
    "        with open(\"searched_file\", \"wb\") as searched_file:\n",
    "            pickle.dump(searched_stars, searched_file)\n",
    "            \n",
    "        with open(\"pool_file\", \"rb\") as pool_file:\n",
    "            pool = pickle.load(pool_file)\n",
    "        with open(\"pool_file\", \"wb\") as pool_file:\n",
    "            pickle.dump(pool + list(set(n_pool) - set(pool)),pool_file)\n",
    "            \n",
    "        with open(\"videos_participants_file\", \"rb\") as videos_participants_file:\n",
    "            videos_participants = pickle.load(videos_participants_file)\n",
    "        with open(\"videos_participants_file\", \"wb\") as videos_participants_file:\n",
    "            pickle.dump(videos_participants + n_videos_participants, videos_participants_file)\n",
    "\n",
    "        return videos_participants, videos, searched_stars, pool\n",
    "        \n",
    "    def get_initials():\n",
    "        with open(\"videos_participants_file\", \"rb\") as videos_participants_file:\n",
    "            videos_participants = pickle.load(videos_participants_file)\n",
    "            \n",
    "        with open(\"videos_file\", \"rb\") as videos_file:\n",
    "            videos = pickle.load(videos_file)\n",
    "        \n",
    "        with open(\"searched_file\", \"rb\") as searched_file:\n",
    "            searched_stars = pickle.load(searched_file)\n",
    "            \n",
    "        with open(\"pool_file\", \"rb\") as pool_file:\n",
    "            pool = pickle.load(pool_file)\n",
    "            \n",
    "        return videos_participants, videos, searched_stars, pool\n",
    "\n",
    "    def remove_p(p):\n",
    "        with open(\"pool_file\", \"rb\") as pool_file:\n",
    "            pool = pickle.load(pool_file)\n",
    "        pool.remove(p)\n",
    "        with open(\"pool_file\", \"wb\") as pool_file:\n",
    "            pickle.dump(pool, pool_file)\n",
    "\n",
    "    client = phub.Client(language = 'br')\n",
    "    \n",
    "    semaphore.acquire()\n",
    "    videos_participants, videos, searched_stars, pool = get_initials()\n",
    "\n",
    "    count = 0\n",
    "    while len(pool) != 0 and count < 2:\n",
    "        count += 1\n",
    "        p = pool[0]\n",
    "        search = client.search(p.replace('-',' '))\n",
    "        remove_p(p)\n",
    "        semaphore.release()\n",
    "        \n",
    "        n_pool = []\n",
    "        n_videos = []\n",
    "        n_videos_participants = []\n",
    "        \n",
    "        for v in range(20):\n",
    "            try:\n",
    "                video = search.get(v)\n",
    "                pornstars = video.pornstars\n",
    "                n_videos_participants.append(pornstars)\n",
    "                n_videos.append(video)\n",
    "                for participant in pornstars:\n",
    "                    name = participant.name\n",
    "                    n_pool.append(name)\n",
    "            except phub.errors.NoResult:\n",
    "                pass\n",
    "    \n",
    "        semaphore.acquire()\n",
    "        videos_participants, videos, searched_stars, pool = atualize_and_get(n_pool, n_videos, n_videos_participants, p)"
   ]
  },
  {
   "cell_type": "code",
   "execution_count": 13,
   "metadata": {},
   "outputs": [
    {
     "ename": "TypeError",
     "evalue": "task() takes 1 positional argument but 2 were given",
     "output_type": "error",
     "traceback": [
      "\u001b[1;31m---------------------------------------------------------------------------\u001b[0m",
      "\u001b[1;31mTypeError\u001b[0m                                 Traceback (most recent call last)",
      "Cell \u001b[1;32mIn[13], line 1\u001b[0m\n\u001b[1;32m----> 1\u001b[0m \u001b[43mtask\u001b[49m\u001b[43m(\u001b[49m\u001b[38;5;241;43m1\u001b[39;49m\u001b[43m,\u001b[49m\u001b[43mSemaphore\u001b[49m\u001b[43m(\u001b[49m\u001b[38;5;241;43m1\u001b[39;49m\u001b[43m)\u001b[49m\u001b[43m)\u001b[49m\n",
      "\u001b[1;31mTypeError\u001b[0m: task() takes 1 positional argument but 2 were given"
     ]
    }
   ],
   "source": [
    "task(1,Semaphore(1))"
   ]
  },
  {
   "cell_type": "code",
   "execution_count": 1,
   "metadata": {},
   "outputs": [
    {
     "name": "stdout",
     "output_type": "stream",
     "text": [
      "All processes have finished.\n"
     ]
    }
   ],
   "source": [
    "import multiprocessing\n",
    "import time\n",
    "\n",
    "def worker_function(semaphore, resource_id):\n",
    "    with semaphore:\n",
    "        print(f\"Process {multiprocessing.current_process().name} is using resource {resource_id}\")\n",
    "        time.sleep(2)\n",
    "        print(f\"Process {multiprocessing.current_process().name} has finished using resource {resource_id}\")\n",
    "\n",
    "if __name__ == '__main__':\n",
    "    semaphore = multiprocessing.Semaphore(2)  # Allow 2 concurrent processes\n",
    "    processes = []\n",
    "\n",
    "    for i in range(5):\n",
    "        process = multiprocessing.Process(target=worker_function, args=(semaphore, i))\n",
    "        processes.append(process)\n",
    "        process.start()\n",
    "\n",
    "    for process in processes:\n",
    "        process.join()\n",
    "\n",
    "    print(\"All processes have finished.\")"
   ]
  },
  {
   "cell_type": "code",
   "execution_count": null,
   "metadata": {},
   "outputs": [
    {
     "name": "stdout",
     "output_type": "stream",
     "text": [
      "Starting job\n",
      "Starting job\n",
      "Starting job\n",
      "Starting job\n",
      "Starting job\n",
      "Starting job\n"
     ]
    }
   ],
   "source": [
    "# create the shared semaphore\n",
    "'''\n",
    "semaphore = Semaphore(1)\n",
    "# create and configure the process pool\n",
    "with Pool(4) as pool:\n",
    "    # prepare task arguments\n",
    "    items = [(i, semaphore) for i in range(10)]\n",
    "    # issue tasks into the process pool\n",
    "    result = pool.starmap_async(task, items)\n",
    "    # wait for all tasks to finish\n",
    "    result.wait()\n",
    "'''\n",
    "\n",
    "pool = Pool(6)\n",
    "for job_id in range(6):\n",
    "    print(\"Starting job\")\n",
    "    pool.apply_async(task, [job_id])\n",
    "pool.close()\n",
    "pool.join()\n"
   ]
  },
  {
   "cell_type": "code",
   "execution_count": 1,
   "metadata": {},
   "outputs": [
    {
     "name": "stdout",
     "output_type": "stream",
     "text": [
      "quantidade coletada: 1; total: 1\n"
     ]
    }
   ],
   "source": [
    "import subprocess\n",
    "import pickle\n",
    "with open(\"searched_file\", \"rb\") as searched_file:\n",
    "    searched = pickle.load(searched_file)\n",
    "\n",
    "antes = 0\n",
    "agora = 1\n",
    "while antes < agora:\n",
    "    print(f\"quantidade coletada: {agora-antes}; total: {agora}\")\n",
    "    with open(\"searched_file\", \"rb\") as searched_file:\n",
    "        searched = pickle.load(searched_file)\n",
    "    antes = len(searched)\n",
    "    # Run the other script\n",
    "    subprocess.run([\"python\", \"collect_parallel.py\", \"0\", \"2\"])\n",
    "    with open(\"searched_file\", \"rb\") as searched_file:\n",
    "        searched = pickle.load(searched_file)\n",
    "    agora = len(searched)"
   ]
  },
  {
   "cell_type": "code",
   "execution_count": 8,
   "metadata": {},
   "outputs": [],
   "source": [
    "with open(\"pool_file\", \"rb\") as pool_file:\n",
    "    pool = pickle.load(pool_file)"
   ]
  },
  {
   "cell_type": "code",
   "execution_count": 9,
   "metadata": {
    "scrolled": true
   },
   "outputs": [
    {
     "data": {
      "text/plain": [
       "[]"
      ]
     },
     "execution_count": 9,
     "metadata": {},
     "output_type": "execute_result"
    }
   ],
   "source": [
    "pool"
   ]
  },
  {
   "cell_type": "code",
   "execution_count": 10,
   "metadata": {},
   "outputs": [],
   "source": [
    "with open(\"videos_file\", \"rb\") as videos_file:\n",
    "    videos = pickle.load(videos_file)"
   ]
  },
  {
   "cell_type": "code",
   "execution_count": 3,
   "metadata": {},
   "outputs": [
    {
     "data": {
      "text/plain": [
       "9709"
      ]
     },
     "execution_count": 3,
     "metadata": {},
     "output_type": "execute_result"
    }
   ],
   "source": [
    "len(videos)"
   ]
  },
  {
   "cell_type": "code",
   "execution_count": 18,
   "metadata": {
    "scrolled": true
   },
   "outputs": [
    {
     "name": "stdout",
     "output_type": "stream",
     "text": [
      "2\n",
      "2\n",
      "3\n",
      "2\n",
      "3\n",
      "3\n",
      "2\n",
      "2\n",
      "2\n",
      "1\n",
      "2\n",
      "1\n",
      "2\n",
      "2\n",
      "2\n",
      "1\n",
      "2\n",
      "2\n",
      "2\n",
      "2\n",
      "3\n",
      "2\n",
      "2\n",
      "2\n",
      "2\n",
      "1\n",
      "3\n",
      "1\n",
      "2\n",
      "1\n",
      "2\n",
      "1\n",
      "2\n",
      "3\n",
      "1\n",
      "1\n",
      "1\n",
      "1\n",
      "1\n",
      "1\n",
      "2\n",
      "1\n",
      "1\n",
      "1\n",
      "1\n",
      "1\n",
      "2\n",
      "1\n",
      "1\n",
      "1\n",
      "1\n",
      "1\n",
      "2\n",
      "1\n",
      "1\n",
      "1\n",
      "1\n",
      "1\n",
      "1\n",
      "1\n",
      "2\n",
      "1\n",
      "1\n",
      "1\n",
      "1\n",
      "1\n",
      "1\n",
      "2\n",
      "1\n",
      "1\n",
      "1\n",
      "1\n",
      "1\n",
      "1\n",
      "1\n",
      "1\n",
      "1\n",
      "1\n",
      "2\n",
      "1\n",
      "1\n",
      "1\n",
      "1\n",
      "1\n",
      "1\n",
      "1\n",
      "1\n",
      "1\n",
      "2\n",
      "2\n",
      "2\n",
      "1\n",
      "1\n",
      "1\n",
      "1\n",
      "1\n",
      "2\n",
      "1\n",
      "1\n",
      "1\n",
      "1\n",
      "2\n",
      "3\n",
      "2\n",
      "1\n",
      "1\n",
      "1\n",
      "1\n",
      "1\n",
      "1\n",
      "1\n",
      "1\n",
      "1\n",
      "2\n",
      "1\n",
      "1\n",
      "1\n",
      "1\n",
      "1\n",
      "1\n",
      "1\n",
      "2\n",
      "1\n",
      "1\n",
      "1\n",
      "1\n",
      "1\n",
      "1\n",
      "1\n",
      "1\n",
      "3\n",
      "1\n",
      "1\n",
      "1\n",
      "1\n",
      "1\n",
      "1\n",
      "1\n",
      "2\n",
      "1\n",
      "1\n",
      "1\n",
      "1\n",
      "1\n",
      "1\n",
      "1\n",
      "1\n",
      "1\n",
      "1\n",
      "2\n",
      "1\n",
      "1\n",
      "1\n",
      "2\n",
      "1\n",
      "3\n",
      "1\n",
      "1\n",
      "1\n",
      "1\n",
      "1\n"
     ]
    }
   ],
   "source": [
    "for c in searched:\n",
    "    print(searched.count(c))"
   ]
  },
  {
   "cell_type": "code",
   "execution_count": 54,
   "metadata": {},
   "outputs": [
    {
     "data": {
      "text/plain": [
       "['Nathan-Bronson',\n",
       " 'Lulu-Chu',\n",
       " 'Charlotte-Sins',\n",
       " 'Vanessa-Vega',\n",
       " 'Aiden-Ashley',\n",
       " 'Codey-Steele',\n",
       " 'Isabelle-Deltore',\n",
       " 'Seth-Gamble',\n",
       " 'Khloe-Kapri',\n",
       " 'DickChibbles',\n",
       " 'Johnny-Love',\n",
       " 'Rion-King',\n",
       " 'Emma-Rose',\n",
       " 'Lauren-Phillips',\n",
       " 'Lulu-Chu',\n",
       " 'Valeria-Atreides',\n",
       " 'Logan-Long',\n",
       " 'Jake-Adams',\n",
       " 'Eva-Long',\n",
       " 'Jessy-Jones',\n",
       " 'Charlotte-Sins',\n",
       " 'James-Deen',\n",
       " 'Alex-Jett',\n",
       " 'Dante-Colle',\n",
       " 'Vanessa-Vega',\n",
       " 'Danny-D',\n",
       " 'Aiden-Ashley',\n",
       " 'Lily-Larimar',\n",
       " 'Paige-Owens',\n",
       " 'Jay-Romero',\n",
       " 'Pristine-Edge',\n",
       " 'Jessie-Rogers',\n",
       " 'Melissa-Stratton',\n",
       " 'Codey-Steele',\n",
       " 'Amber-Moore',\n",
       " 'Macy-Meadows',\n",
       " 'Luca-Ferrero',\n",
       " 'Brad-Banks',\n",
       " 'Luke-Riggs',\n",
       " 'Jordi-El-Nino-Polla',\n",
       " 'Isabelle-Deltore',\n",
       " 'Fit-Kitty',\n",
       " 'Theodora-Day',\n",
       " 'Lola-Fae',\n",
       " 'Nicole-Aria',\n",
       " 'Jane-Wilde',\n",
       " 'Seth-Gamble',\n",
       " 'Scarlit-Scandal',\n",
       " 'Heather-Starlet',\n",
       " 'Tony-Rubino',\n",
       " 'Robby-Echo',\n",
       " 'Molly-Little',\n",
       " 'Khloe-Kapri',\n",
       " 'Rachael-Cavalli',\n",
       " 'Eric-John',\n",
       " 'Mandy-Rhea',\n",
       " 'Kailani-Kai',\n",
       " 'Hotwife-Lexi-Love',\n",
       " 'Riley-Jacobs',\n",
       " 'Lila-Lovely',\n",
       " 'Johnny-Love',\n",
       " 'Jessica-Ryan',\n",
       " 'Christiana-Cinn',\n",
       " 'Ashley-Alban',\n",
       " 'Kylie-Rocket',\n",
       " 'Jessie-Saint',\n",
       " 'Ricky-Spanish',\n",
       " 'Lauren-Phillips',\n",
       " 'Rob-Piper',\n",
       " 'Brittney-Kade',\n",
       " 'Crystal-Clark',\n",
       " 'Kyler-Quinn',\n",
       " 'September-Reign',\n",
       " 'Slimthic-Vic',\n",
       " 'Cherie-DeVille',\n",
       " 'Haley-Spades',\n",
       " 'Lucas-Frost',\n",
       " 'Valerica-Steele',\n",
       " 'Emma-Rose',\n",
       " 'Alex-Adams',\n",
       " 'Valeria-Fuentes',\n",
       " 'JC-Wilds',\n",
       " 'Penny-Barber',\n",
       " 'Viva-Athena',\n",
       " 'Vanessa-Sky',\n",
       " 'Kenna-James',\n",
       " 'Bailey-Base',\n",
       " 'Mindi-Mink',\n",
       " 'Jake-Adams',\n",
       " 'Nathan-Bronson',\n",
       " 'Eva-Long',\n",
       " 'Justin-Hunt',\n",
       " 'Mike-Mancini',\n",
       " 'Brandi-Love',\n",
       " 'Violet-Myers',\n",
       " 'LaSirena69',\n",
       " 'Jessy-Jones',\n",
       " 'Lexi-Luna',\n",
       " 'Oliver-Flynn',\n",
       " 'Helene-Boudreau',\n",
       " 'Mona-Azar',\n",
       " 'James-Deen',\n",
       " 'Charlotte-Sins',\n",
       " 'Logan-Long',\n",
       " 'Rosalyn-Sphinx',\n",
       " 'London-River',\n",
       " 'Chloe-Cherry',\n",
       " 'August-Ames',\n",
       " 'The-Kiki-Daire',\n",
       " 'Armani-Black',\n",
       " 'Summer-Hart',\n",
       " 'Tyler-Nixon',\n",
       " 'Sheena-Ryder',\n",
       " 'Alex-Jett',\n",
       " 'Natasha-Nice',\n",
       " 'Adria-Rae',\n",
       " 'Owen-Gray',\n",
       " 'Abbie-Maley',\n",
       " 'Crystal-Thayer',\n",
       " 'Michael-DelRay',\n",
       " 'Haley-Reed',\n",
       " 'Dante-Colle',\n",
       " 'Daisy-Taylor',\n",
       " 'Devin-Trez',\n",
       " 'Rebecca-Volpetti',\n",
       " 'Krissy-Lynn',\n",
       " 'Missy-Martinez',\n",
       " 'Ariella-Ferrera',\n",
       " 'Alessandra-Jane',\n",
       " 'Codi-Vore',\n",
       " 'Aiden-Ashley',\n",
       " 'Sera-Ryder',\n",
       " 'Juan-El-Caballo-Loco',\n",
       " 'Braylin-Bailey',\n",
       " 'Savannah-Bond',\n",
       " 'Angela-White',\n",
       " 'Tiffany-Watson',\n",
       " 'Emily-Willis',\n",
       " 'Paige-Owens',\n",
       " 'Tommy-Pistol',\n",
       " 'Honey-Hayes',\n",
       " 'Jasmine-Webb',\n",
       " 'Blake-Blossom',\n",
       " 'Sara-Jay',\n",
       " 'Nadia-White',\n",
       " 'Victoria-Lobov',\n",
       " 'Chantal-Danielle',\n",
       " 'Anthony-Pierce',\n",
       " 'Chloe-Surreal',\n",
       " 'Pristine-Edge',\n",
       " 'Syren-De-Mer',\n",
       " 'Luke-Cooper',\n",
       " 'Ryan-Mclane',\n",
       " 'Melissa-Stratton',\n",
       " 'Zac-Wild',\n",
       " 'Codey-Steele',\n",
       " 'Cherry-Kiss',\n",
       " 'Ebony-Mystique',\n",
       " 'Kitana-Lure',\n",
       " 'Michael-Chapman',\n",
       " 'Martina-Smeraldi']"
      ]
     },
     "execution_count": 54,
     "metadata": {},
     "output_type": "execute_result"
    }
   ],
   "source": [
    "searched"
   ]
  },
  {
   "cell_type": "code",
   "execution_count": null,
   "metadata": {
    "scrolled": true
   },
   "outputs": [],
   "source": [
    "import pickle\n",
    "import phub\n",
    "client = phub.Client(language = 'br')\n",
    "\n",
    "with open(\"videos_participants_file\", \"rb\") as videos_participants_file:\n",
    "    videos_participants = pickle.load(videos_participants_file)\n",
    "with open(\"videos_file\", \"rb\") as videos_file:\n",
    "    videos = pickle.load(videos_file)\n",
    "with open(\"searched_file\", \"rb\") as searched_file:\n",
    "    searched_stars = pickle.load(searched_file)\n",
    "with open(\"pool_file\", \"rb\") as pool_file:\n",
    "    pool = pickle.load(pool_file)\n",
    "while len(pool) != 0:\n",
    "    p = pool[0]\n",
    "    search = client.search(p.replace('-',' '))\n",
    "    for v in range(5):\n",
    "        try:\n",
    "            video = search.get(v)\n",
    "            pornstars = video.pornstars\n",
    "            videos_participants.append(pornstars)\n",
    "            videos.append(video)\n",
    "            for participant in pornstars:\n",
    "                name = participant.name\n",
    "                if name not in pool and name not in searched_stars:\n",
    "                    pool.append(name)\n",
    "        except phub.errors.NoResult:\n",
    "            pass\n",
    "    searched_stars.append(p)\n",
    "    pool.remove(p)\n",
    "    with open(\"videos_file\", \"wb\") as videos_file:\n",
    "        pickle.dump(videos, videos_file)\n",
    "    with open(\"pool_file\", \"wb\") as pool_file:\n",
    "        pickle.dump(pool, pool_file)\n",
    "    with open(\"searched_file\", \"wb\") as searched_file:\n",
    "        pickle.dump(searched_stars, searched_file)\n",
    "    with open(\"videos_participants_file\", \"wb\") as videos_participants_file:\n",
    "        pickle.dump(videos_participants, videos_participants_file)"
   ]
  },
  {
   "cell_type": "code",
   "execution_count": 5,
   "metadata": {},
   "outputs": [
    {
     "name": "stdout",
     "output_type": "stream",
     "text": [
      "['Ricky-Johnson'] Ricky-Johnson\n",
      "['Nathan-Bronson', 'Lulu-Chu', 'Ariella-Ferrera', 'Emily-Willis', 'Victoria-Lobov', 'Isabelle-Deltore', 'Kay-Carter', 'Aiden-Ashley', 'Bella-Rolland', 'Emma-Rose', 'Johnny-Love', 'Valeria-Atreides', 'Rion-King', 'Lauren-Phillips', 'DickChibbles', 'Danny-D', 'Jordi-El-Nino-Polla', 'Missy-Martinez', 'Ryan-Mclane', 'Troy-Francisco', 'Luke-Longly', 'Nadia-White', 'Jay-Romero', 'Luke-Riggs', 'Fit-Kitty', 'Brad-Banks', 'Luca-Ferrero', 'Valerica-Steele', 'JC-Wilds', 'Alex-Adams', 'Valeria-Fuentes', 'Penny-Barber', 'Christiana-Cinn', 'Jessie-Saint', 'Kylie-Rocket', 'Ashley-Alban', 'Jessica-Ryan', 'Alex-Mack', 'Brittney-Kade', 'Crystal-Clark', 'Codi-Vore', 'Krissy-Lynn', 'Alessandra-Jane', 'Rebecca-Volpetti', 'Small-Hands', 'Christian-XXX', 'Luciferxxx', 'Filthy-Rich', 'Brianna-Rose', 'Rachael-Cavalli', 'Honey-Hayes', 'Sara-Jay', 'Anthony-Pierce', 'Chantal-Danielle', 'Jasmine-Webb', 'Blake-Blossom', 'Primal-Instincts', 'Laney-Grey', 'Rhaya-Shyne', 'Suttin', 'Brad-Knight', 'Bella-Maree', 'Brad-Newman', 'Logan-Xander', 'Luke-Cooper', 'Mike-Mancini', 'Dorian-Del-Isla', 'Marilyn-Johnson', 'Anastasia-Knight', 'Lexi-Luna', 'Sophia-Locke', 'Kylie-XY-Quinn', 'Taylor-Blake', 'Chloe-Surreal', 'Billy-Boston', 'Ricky-Spanish', 'Alexia-Anders', 'Sophia-Burns', 'Bruce-Venture', 'Kyler-Quinn', 'Mick-Blue', 'Angela-White', 'Sky-Bri', 'Violet-Myers', 'Steve-Rickz', 'Johnny-Rapid', 'Cassie-Del-Isla', 'Coco-Vandi', 'Kyle-Balls-WCA', 'Jackie-Knight', 'Kendra-Heart', 'Summer-Hart', 'Codey-Steele', 'Steve-Holmes', 'Will-Pounder', 'Cherie-DeVille', 'Liv-Revamped', 'Raul-Costa', 'Delia-DeLions', 'Gigi-Rivera', 'Christian-Clay', 'Shalina-Devine', 'Skylar-Valentine', 'Ivy-Lebelle', 'Penelope-Cum', 'Natalie-Brooks', 'Dana-DeArmond', 'Dakota-Burns', 'Freya-Von-Doom', 'Xxlayna-Marie', 'Adira-Allure', 'Brother-Love', 'Tyler-Nixon', 'Peter-Green', 'Maya-Woulfe', 'Syren-De-Mer', 'Manuel-Ferrara', 'Dredd', 'Jade-Presley', 'Kiki-Minaj', 'Tony-James', 'Lola-Marie', 'Rob-Piper', 'Ramon-Nomar', 'Quinton-James', 'Stirling-Cooper', 'Lilly-Bell', 'Jojo-Kiss', 'Lola-Taylor', 'Miss-Pasion', 'Dakota-Tyler', 'Ashley-Lane', 'Gia-Milana', 'Brandy-Renee', 'Alina-Lopez', 'Kyle-Mason', 'Hime-Marie', 'Aidra-Fox', 'Brooklyn-Gray', 'Chloe-Temple', 'Mackenzie-Mace', 'Sera-Ryder', 'Jaime-Michelle', 'Hoby-Buchanon', 'Richelle-Ryan', 'Vivian-Taylor', 'Pristine-Edge', 'Anton-Harden', 'CHUCK', 'Kimmy-Kimm', 'Joshua-Lewis', 'Spencer-Bradley', 'Adaline-Star', 'Damon-Dice', 'Skylar-Vox', 'Michael-Vegas', 'Tony-Profane', 'Markus-Dupree', 'Autumn-Falls', 'ImMeganLive', 'Sheena-Ryder', 'Reagan-Lush', 'Lauryn-May', 'Jada-Kai', 'Krystal-Davis', 'Isis-Love', 'Sergeant-Miles', 'Lucas-Frost', 'Jimmy-Michaels', 'Natasha-Nice', 'Seth-Gamble', 'Macy-Meadows', 'Amber-Moore', 'Melissa-Stratton', 'Charlotte-Sins', 'Vanna-Bardot', 'Alexis-Fawx', 'Vanessa-Sky', 'Riley-Star', 'Robby-Echo', 'Karter-Foxx', 'Kendra-Lust', 'Chris-Strokes', 'Agatha-Vega', 'Ginebra-Bellucci', 'Martina-Smeraldi', 'Rae-Lil-Black', 'Cherry-Kiss', 'Ian-Scott', 'Veronica-Leal', 'Lana-Roy', 'James-Deen', 'Dana-Vespoli', 'Natasha-Voya', 'Sweet-Sophia', 'Duncan-Saint', 'Jovan-Jordan', 'Jason-Luv', 'Yelena-Vera', 'Rebel-Rhyder', 'Isiah-Maxwell', 'Alex-Coal', 'Clara-Trinity', 'Kourtney-Love', 'Vienna-Black', 'Serena-Santos', 'Abby-Somers', 'Destiny-Dixon', 'Kit-Mercer', 'Scarlit-Scandal', 'Lena-Paul', 'Jazmin-Luv', 'Nina-Dolci', 'Annabel-Redd', 'Theodora-Day', 'Tommy-Pistol', 'Marina-Maya', 'Harlow-Harrison', 'Abbie-Maley', 'Nicole-Doshi', 'Tony-Rubino', 'Jasmine-Black', 'Sasha-Rose', 'Ian-Tate', 'Keni-Styles', 'Elizabeth-Lawrence', 'Britt-James', 'Cindy-Behr', 'Anny-Aurora', 'Ava-Austen', 'Lola-Bellucci', 'Lola-Myluv', 'Dylan-James', 'Abella-Danger', 'Kenzie-Reeves', 'Bunny-Colby', 'Anna-Claire-Clouds', 'Danni-Rivers', 'Luna-Star', 'Prince-Yahshua', 'Charles-Dera', 'Sarah-Vandella', 'Marco-Banderas', 'Lyna-Cypher', 'Vanda-Lust', 'Gina-Gerson', 'Owen-Gray', 'Scott-Nails', 'Lauren-Pixie', 'Keira-Croft', 'Jenna-Noelle', 'Jayla-Page', 'Kira-Adams', 'Jenna-Starr', 'Reagan-Foxx', 'Kiara-Cole', 'Will-Tile', 'Jax-Slayher', 'Gianna-Dior', 'Oliver-Flynn', 'Kenna-James', 'Riley-Reid', 'Eva-Lovia', 'Dante-Colle', 'Kristen-Scott', 'Erin-Everheart', 'Lily-Larimar', 'Juan-El-Caballo-Loco', 'Michelle-Anderson', 'Brick-Danger', 'Emma-Magnolia', 'Kianna-Dior', 'Holly-Day', 'Maddy-May', 'Brandi-Love', 'Jessa-Rhodes', 'LaSirena69', 'The-Official-David-Lee', 'Alona-Bloom', 'Khloe-Kapri', 'Donnie-Rock', 'Whitney-Wright', 'Sofi-Ryan', 'Demi-Lopez', 'Teanna-Trump', 'Elena-Koshka', 'Mike-Angelo', 'May-Thai', 'Valentina-Nappi', 'Johnny-Castle', 'Brenna-Sparks', 'Ember-Snow', 'Richard-Mann', 'Kacie-Castle', 'Nickey-Huntsman', 'Wolf-Hudson', 'Lucky-Fate', 'Jane-Wilde', 'Heather-Starlet', 'Lola-Fae', 'Nicole-Aria', 'Zac-Wild', 'Jake-Adams', 'Logan-Long', 'Eva-Long', 'Jessy-Jones', 'Katie-Monroe', 'Brad-Hart', 'Judy-Jolie', 'Ricky-Johnson', 'Chanel-Preston', 'Gabbie-Carter', 'Siri-Dahl', 'Kylie-Sinner', 'Liya-Silver', 'Chris-Diamond', 'Jennifer-Mendez', 'Jia-Lissa', 'Kristof-Cale', 'Aaron-Rock', 'Lana-Bunny', 'Jack-Ripher', 'Jay-Bank', 'Axel-Truu', 'Kate-Truu', 'George-Uhl', 'Marcelo', 'Francys-Belle', 'Alexis-Crystal', 'Vince-Karter', 'Michael-Chapman', 'Blue-Angel', 'Barbie-Sins', 'Antonio-Black', 'Kaisa-Nord', 'Rosalyn-Sphinx', 'London-River', 'Chloe-Cherry', 'August-Ames', 'Connor-Kennedy', 'Victoria-Voxxx', 'Erik-Everhard', 'Julia-Ann', 'Vanessa-Veracruz', 'Abigail-Mac', 'Mariana-Martix', 'Mia-Navarro', 'Brooke-Johnson', 'Izzy-Wilde', 'Jade-Venus', 'Cory-Chase', 'Kenzie-Madison', 'Mz-Dani', 'Mona-Azar', 'Nade-Nasty', 'Michael-Stefano', 'Jason-Carrera', 'Gia-Itzel', 'Lexi-Lore', 'Jericha-Jem', 'Carolina-Sweets', 'Lily-Rader', 'Holly-Hendrix', 'Daisie-Belle', 'Danny-Mountain', 'Allie-Nicole', 'Jack-Vegas', 'Kayla-Paige', 'Alex-D', 'Alicia-Williams', 'Tommy-Gunn', 'Van-Wylde', 'Eliza-Ibarra', 'Penelope-Amour', 'Mike-Adriano', 'Vina-Sky', 'Annabell-Lee', 'Charli-Phoenix', 'River-Lynn', 'Leana-Lovings', 'Molly-Little', 'Gizelle-Blanco', 'Jayla-De-Angelis', 'Devin-Trez', 'Moriah-Mills', 'Sarai-Minx', 'Mia-Khalifa', 'Demetri-XXX', 'Jasmine-Jae', 'Eric-Swiss', 'Diana-Prince', 'Daniel-Hunter', 'Shane-Dos-Santos', 'India-Summer', 'Karmen-Karma', 'Angell-Summers', 'Ally-Kay', 'Lucy-Law', 'Jenna-Reid', 'Elizabeth-Jolie', 'Amilia-Onyx', 'Paige-Ashley', 'Delta-White', 'Sensual-Jane', 'Billy-Glide', 'Stacey-Saran', 'Madelyn-Marie', 'Black-Angelika', 'Jennifer-Dark', 'Neeo', 'River-Fox', 'Charlie-Red', 'Marc-Rose', 'Clea-Gaultier', 'Tiffany-Leiddi', 'April-Olsen', 'Romeo-Price', 'Lacy-Lennon', 'Britney-Amber', 'Goddess-Kyaa', 'Marcus-London', 'Claire-Castel', 'Angel-Hott', 'Phoenix-Marie', 'Julie-Cash', 'Lola-Reve', 'Ralf-Christian', 'Lady-Bug', 'Nancy-A', 'Krystal-Boyd', 'Stefanie-Moon', 'Leny-Evil', 'Haley-Reed', 'Jewelz-Blu', 'Leila-Lewis', 'Arya-Fae', 'Air-Thugger', 'Jason-Moody', 'Kayley-Gunner', 'Pressure', 'Eliza-Jane', 'Ryan-Reid', 'Jon-Jon', 'Aubree-Valentine', 'Elsa-Jean', 'Jill-Kassidy', 'Emma-Starletto', 'Alina-Angel', 'Johnny-Sins', 'DWAYNE-FOXXX', 'Mark-Rockwell', 'Kimmy-Granger', 'Adria-Rae', 'Karma-Rx', 'Alexis-Tae', 'Katie-Morgan', 'Brooklyn-Chase', 'Jay-Smooth', 'Daya-Knight', 'Bailey-Base', 'Cecilia-Lion', 'Jules-Jordan', 'Jonni-Darkko', 'James-Angel', 'Eva-Karera', 'Giovanni-Francesco', 'Valentina-Bellucci', 'Nyomi-Star', 'Christy-Love', 'Dan-Ferrari', 'Caitlin-Bell', 'Ailee-Anne', 'Chanel-Camryn', 'Alex-Jett', 'Sam-Shock', 'Athena-Faris', 'Gina-Valentina', 'Toni-Ribas', 'Xander-Corvus', 'Sophia-Laure', 'Angel-Emily', 'Josh-Rivers', 'Sophie-Dee', 'Cassidy-Banks', 'Paola-Hard', 'Ariana-Marie', 'Hadley-Viscara', 'Anissa-Kate', 'Breanna-Sparks', 'Lady-Fyre', 'Laz-Fyre', 'Milana-Ricci', 'Kaya-Lin', 'Amanda-Ryder', 'Chastity-Lynn', 'Kazumi', 'Jason-Sweets', 'London-Laurent', 'Scarlett-Mae', 'Alexis-Ford', 'Adriana-Chechik', 'Mindi-Mink', 'Viva-Athena', 'Helene-Boudreau', 'Emma-Hix', 'Savana-Styles', 'Mckenzie-Lee', 'Aften-Opal', 'Alex-Legend', 'Becky-Bandini', 'Gracie-Jane', 'Tiffany-Taylor', 'Kylie-Sky', 'Shay-Golden', 'Victoria-Sky', 'Tommy-Wood', 'Tru-Kait', 'Ava-Koxxx', 'Lika-Star', 'Mary-Rock', 'Harlowe-Blue', 'Sonya-Blaze-Private', 'Luna-Silver', 'Honey-Moon', 'Athena-May', 'Asia-Rivera', 'Isabella-Chrystin', 'Kitana-Lure', 'Bella-Rossi', 'Mistress-Kara', 'Vanessa-Vega', 'Valentina-Ricci', 'Marcello-Bravo', 'Little-Caprice', 'Summer-Rose', 'Emilio-Ardana', 'Marilyn-Crystal', 'Sofy-Soul', 'Natasha-Teen', 'Valentina-Bianco', 'Belle-Claire', 'Amaris', 'Jennie-Rose', 'Angel-Wicky', 'Alberto-Blanco', 'Eveline-Dellai', 'Leo-Casanova', 'Maximo-Garcia', 'Ava-Addams', 'Blair-Williams', 'Harley-Dean', 'Olivia-Austin', 'Justin-Hunt', 'Bradley-Remington', 'Scarlett-Sage', 'Romi-Rain', 'Liv-Wild', 'Dani-Daniels', 'Mia-Malkova', 'Eden-Sin', 'Elle-Brook', 'Mister-Spunks', 'Sexy-Spunky-Girl', 'Pierce-Paris', 'Khloe-Kay', 'Melanie-Brooks', 'Tony-Orlando', 'Lil-D', 'Sly-Diggler', 'Alex-Jones', 'Kay-Lovely', 'Rocky-Emerson', 'Ellie-Eilish', 'America', 'Sara-Diamante', 'Diana-Rius', 'Juan-Lucho', 'Sovereign-Syre', 'Isabella-Nice', 'Janice-Griffith', 'Remy-Lacroix', 'Bridgette-B', 'Alice-Merchesi', 'Skye-Blue', 'Vanessa-Cage', 'Gianna-Gem', 'Jay-Rock', 'Haley-Spades', 'Donny-Sins', 'John-Strong', 'Silvia-Saige', 'Jay-Crew', 'Melissa-Moore', 'Skylar-Snow', 'Reena-Sky', 'Rory-Knox', 'Lana-Analise', 'Mia-Kay', 'Amber-Chase', 'Sofia-Lee', 'AnnaBelle-Lee', 'Joanna-Angel', 'Cody-Carter', 'Diego-Perez', 'MILAN', 'Jayden-Cole', 'Ava-Devine', 'Matt-Bixel', 'Diamond-Monroe', 'Ryan-Ryder', 'Keiran-Lee', 'Mary-Wet', 'Adeline-White', 'Adeline-Lafouine', 'Francesca-Le', 'Nikki-Hunter', 'Jessica-Robbin', 'Joslyn-James', 'Karen-Fisher', 'Lizz-Tayler', 'Derrick-Pierce', 'Ginger-Lynn', 'Lucy-Belle', 'Lucy-Li', 'Just-Lucy', 'Ryan-Driller', 'Johnny-Stone', 'Chloe-Conrad', 'Paige-Owens', 'Emma-Butt', 'Jenny-Hendrix', 'Stacey-Lacey', 'Aletta-Ocean', 'Mai-Bailey', 'Michelle-Thorne', 'Katie-Kox', 'Zariah-Aura', 'Kerry-Louise', 'Persia-Monir', 'Regan-Anthony', 'Brittany-Angel', 'Ashlynn-Leigh', 'Kim-Kennedy', 'Darcy-Tyler', 'Dane-Cross', 'Rebecca-More', 'Leigh-Darby', 'Aleska-Diamond', 'Britney-Angel', 'Alex-Forte', 'Jennifer-Exxotic', 'Jennifer-White', 'Halle-Hayes', 'Anastasia-Devine', 'Tina-Kay', 'Angelo-Godshack', 'Christie-Stevens', 'Katy-Rose', 'Rhiannon-Ryder', 'Sienna-Day', 'Anna-Polina', 'Nephael', 'Natalie-Mars', 'Deviant-Kade', 'Aria-Valencia', 'Naudi-Nala', 'Lana-Rhoades', 'Mariska-X', 'Littleangel84', 'Szilvia-Lauren', 'Eva-Elfie', 'Sindy-Vega', 'Miriama-Kunkelova', 'Alyx-Star', 'Apollo-Banks', 'Rodrigo-Amor', 'Vile-Vixen', 'Mary-Moody', 'Ana-Foxxx', 'John-Legendary', 'Yasmine-De-Leon', 'Jason-Brown', 'Ryan-Keely', 'Damion-Dayski', 'CJ-Miles', 'Eva-Notty', 'Ashley-Adams', 'Avery-Jane', 'Aria-Lee', 'Brandy-Scott', 'Coco-Lovelock', 'Kali-Roses', 'Connie-Perignon', 'Indica-Flower', 'Zoey-Sinn', 'Madi-Collins', 'Dan-Dangler', 'Audrey-Hemmingway', 'Shiri-Allwood', 'Jean-Hollywood', 'Lydia-Black', 'Iammjfresh', 'Spencer-Scott', 'Tyler-Steel', 'Cadence-Lux', 'Kayla-Kayden', 'Michelle-Avanti', 'Angel-Youngs', 'Manon-Martin', 'Sophia-Leone', 'Payton-Avery', 'Natalie-Brooke', 'Paul-Chaplin', 'Marcos-Leon', 'Liza-Del-Sierra', 'Kiki-Klout', 'Ayumi-Anime', 'Mandy-Muse', 'Valentina-Jewels', 'Maryana-Rose', 'The-Flesh-Mechanic', 'Payton-Preslee', 'Chanel-Grey', 'STELLA-SEDONA', 'Abbey-Brooks', 'Mellanie-Monroe', 'Jessie-Rogers', 'Evan-Stone', 'Tori-Black', 'Gia-Paige', 'Carmen-Caliente', 'Uma-Jolie', 'Bianca-Beauchamp', 'Megan-Rain', 'Casey-Kisses', 'Chad-White', 'Ava-Sinclaire', 'Demi-Sutra', 'Cali-Caliente', 'Azul-Hermosa', 'Vicki-Chase', 'Nicole-Kitt', 'Ebony-Mystique', 'Cliff-Jensen', 'Bella-Blu', 'Aria-Banks', 'Victoria-Cakes', 'Ivy-Wolfe', 'Joss-Lescaf', 'Daisy-Stone', 'Pamela-Morrison', 'Aysha', 'John-Adams', 'Anna-Rose', 'Polly-Pons', 'Sadi-Rose', 'Johnny-Starlight', 'Sam-Bourne', 'Patty-Michova', 'Max-Dior', 'Lilli-Vanilli', 'Jenifer-Jane', 'Ridge', 'Betty-Foxxx', 'Canela-Skin', 'Polly-Petrova', 'Chris-Torres', 'Antonio-Mallorca', 'Amari-Anne', 'Verena', 'Sexy-Venera', 'Jolee-Love', 'Zlata-Shine', 'Angelika-Grays', 'Holly-Molly', 'Maya-Bijou', 'Alina-Ali', 'Avi-Love', 'Sammie-Daniels', 'Chad-Alva', 'Eli', 'Aubrey-Kate', 'Korra-Del-Rio', 'Cherry-Mavrik', 'Lance-Hart', 'MistyMeanerXXX', 'Charlotte-Sartre', 'Queen-Rogue', 'Destiny-Mira', 'Michelle-Martinez', 'Zoe-Doll', 'Pamela-Sanchez', 'Moisex', 'Logan-Pierce', 'Michael-Masters', 'Yumi', 'Morgan-Lee', 'Tiffany-Watson', 'Briana-Banks', 'Gia-Derza', 'Jason-Michaels', 'Claire-Black', 'Nikky-Dream', 'Eddie', 'Charlie-Dean', 'Bunny-Madison', 'Quinn-Waters', 'Sexy-Vanessa', 'Figi', 'Mila-Milan', 'Molly-Stewart', 'Jayden-James', 'Veronica-Rodriguez', 'Diamond-Kitty', 'Jaylene-Rio', 'Matt-Sloan', 'Alexandra-Ivy', 'Matt-Bird', 'Kelsi-Monroe', 'Jessica-Dawn', 'Sean-Lawless', 'Arianna-Knight', 'Eric-John', 'Savannah-Bond', 'Kendall-Kayden', 'Sheena-Shaw', 'Katie-Summers', 'Mark-Wood', 'Trina-Michaels', 'Harmony-Rose', 'Savannah-Jane', 'Charly-Summer', 'Lia-Lovely', 'Nick-Jacobs', 'Ashley-Winters', 'Annette-Haven', 'Tom-Byron', 'Lucy-Tyler', 'Allen-Swift', 'Lucy-Doll', 'Josy-Black', 'Eliza-Eves', 'Diamond-Jackson', 'Josh-Stone', 'Naomi-Foxxx', 'Hazel-Gracee', 'Riley-Jacobs', 'Misty-Stone', 'Jenna-Foxx', 'Roxy-Taggart', 'Tiffany-Kingston', 'Choky-Ice', 'Nick-Lang', 'Estella-Bathory', 'Sophie-Anderson', 'Wesley-Pipes', 'Jacob-Coldwater', 'Brittany-Bardot', 'Sasha-Beart', 'Brittany-Andrews', 'Lily-Labeau', 'Will-Powers', 'Talin-Shields', 'Chloe-Amour', 'Dixie-Belle', 'Roxanne-Rae', 'Kennedy-Leigh', 'Darcy-Dark', 'Darcie-Dolce', 'NASHIDNI', 'Rebecca-Moore', 'Felix-Jones', 'Amber-Jayne', 'Abbie-Cat', 'Diamond-LaRocce', 'Kathia-Nobili', 'Angel-Spice', 'Angel-Pink', 'Mugur', 'Sunny-Green', 'Regina-Moon', 'Alex-Charger', 'Sunny-Diamond', 'Liza-Shay', 'Anastasia-Mistress', 'Pascal-White', 'Sean-Michaels', 'Lena-Moon', 'Janelle-Fennec', 'Colby-Jansen', 'Aria-Valentino', 'Anya-Olsen', 'Destiny-Cruz', 'Nick-Marxx', 'Roxie-Sinner', 'Hazel-Moore', 'Bruno-Dickemz', 'Alyssa-Reece', 'Erica-Lauren', 'Julia-Roca-X', 'Erik-Wil', 'Silvie-Deluxe', 'Denis-Reed', 'Aimee-Ryan', 'Lianna-Lawson', 'Jayden-Starr', 'Osa-Lovely', 'Mya-Mays', 'Evanni-Solei', 'Cherry-Hilson', 'Brooke-Wylde', 'Victoria-June', 'Katrina-Jade', 'Dustin-Daring', 'Rachel-Starr', 'Xeena-Mae', 'Andi-Rose', 'Tyrone-Love', 'Bailey-Brooke', 'AJ-Applegate', 'Shannon-Kelly', 'Lea-Guerlin', 'Chloe-Lacourt', 'Tommy-Gold', 'Martin-Spell', 'Monica-Sage', 'Ella-Knox', 'Lala-Ivey', 'Audrey-Royal', 'Willow-Ryder', 'Cali-Lee', 'J-Mac', 'Nina-Dee', 'Cathy-Heaven', 'Victoria-Summers', 'Sammy-Jayne', 'Wendy-Star', 'Sharon-Pink', 'Sara-Class', 'Gemma-Massey', 'Marco-Rivera', 'Jayden-Marcos', 'Presley-Hart', 'Dean-Van-Damme', 'Athena-Rayne', 'Lysagna-DelRay', 'Marley-Blaze', 'Bill-Bailey', 'Bambi-Brooks', 'Kayden-Kross', 'Jenna-Sativa', 'Alexis-Texas', 'Johnny-Hill', 'Laura-Fox', 'Febby-Twigs', 'Kylie-Le-Beau', 'Ricky-Larkin', 'Nikki-Knightly', 'Kira-Noir', 'Evelin-Stone', 'Katie-Kush', 'Clarke-Kent', 'Adriana-Milano', 'Sadie-Blake', 'Sadie-Pop', 'Sarah-White', 'Sharon-Wild', 'Mark-Aurel', 'Conny-Dachs', 'Ridge-Crix', 'Jamey-Janes', 'Zuzu-Sweet', 'Briana-Banderas', 'THRILLMONGER', 'Jesus-Reyes', 'Darrell-Deeps', 'Venom-Evil', 'David-Perry', 'Renato', 'Scotty-P', 'Preston-Parker', 'Casey-Calvert', 'Arabelle-Raphael', 'Jenna-Creed', 'Janie-Blade', 'Angelina-Please', 'Stefania-Mafra', 'Mena-Carlisle', 'Marley-Brinx', 'James-Band-Porn', 'Callie-Calypso', 'Lily-Lou', 'Yumi-Lee', 'Kissa-Sins', 'Nicole-Love', 'Jarushka-Ross', 'Peter-Stallion', 'Eddiejaye', 'Eddie-Danger', 'Lyra-Lockhart', 'Mila-Blaze', 'Anya-Ivy', 'Nayomi-Sharp', 'Amilian-Kush', 'Jade-Baker', 'Levi-Cash', 'Veronica-Avluv', 'Piper-Perri', 'Hannah-Hays', 'Kesha-Ortega', 'Olivia-Nice', 'Porno-Dan', 'Tina-Fire', 'Tiffany-Tatum', 'Jada-Stevens', 'Ryan-Smiles-Xxx', 'Talon', 'Jessica-Sodi', 'Valerie-Kay', 'Johnny-Goodluck', 'Kinsley-Karter', 'Amy-Brooke', 'Adriana-Sephora', 'Danica-Dillan', 'Summer-Brielle-Taylor', 'Daisy-Lee', 'Maria-Kazi', 'Vienna-Rose', 'Rose-Monroe-Your-Fav', 'Harmony-Wonder', 'Malina-Melendez', 'Nika-Venom', 'Liz-Jordan', 'Marry-Lynn', 'Christy-Mack', 'Hyley-Winters', 'Hayden-Winters', 'Seka', 'Alicia-Monet', 'Nikki-Knights', 'Sarah-Banks', 'Brittney-White', 'Maya-Farrell', 'Hotwife-Lexi-Love', 'Leah-Layz', 'Holly-Hotwife', 'Olivia-Jay', 'Madi-Meadows', 'Darina-Vanickova', 'Anna-Lovato', 'Natalie-Knight', 'Kylie-Kingston', 'Alexis-Brill', 'Nataly', 'Big-Tre', 'Harmony-Reigns', 'Sierra-Sanders', 'Flash-Brown', 'Rico-Strong', 'Kiara-Mia', 'Andi-James', 'Ember-Fiéra', 'Steve-Q', 'LutrosWorld', 'Anna-De-Ville', 'Eden-Ivy', 'Ivy-Maddox', 'Bo-Sinn', 'Britt-Shields', 'Doctor-Tampa', 'Lola-Leda', 'Dixie-Lynn', 'Dixie-Jewel', 'Miss-Brat', 'Ginary', 'Maria-Jade', 'Benjamin-Brat', 'Claire-Heart', 'Ashley-Fires', 'Adriana-Maya', 'Sara-Luvv', 'Serena-Blair', 'Dahlia-Sky', 'Elise-Moon', 'Lissa-Miss', 'Katty-West', 'Vika', 'Eric-Everhard', 'Hazel-Grace69', 'Romeo-Mancini', 'Angel-Gostosa', 'Jessica-Lincoln', 'Lara-Onyx', 'Camilla-Creampie', 'Lauro-Giotto', 'Roxy-Panther', 'Angelina-Crow', 'Sunny-Bunnie', 'Andi-Rye', 'Anastasia-Lux', 'Sarah-Young', 'Joel-Someone', 'Lisey-Sweet', 'Alana-Cruise', 'Aria-Taylor', 'Ameena-Green', 'Karlee-Grey', 'Nicole-Bexley', 'Nicolette-Shea', 'Alexa-Tomas', 'Julia-Rain', 'Victoria-Daniels', 'Lina-Luxa', 'Sarah-Kay', 'Agness-Miller', 'Sweet-Cat', 'Cindy-Shine', 'Anastasia-Rose', 'Julie-Kay', 'Katt-Garcia', 'Anna-Bell-Peaks', 'Claudia-Valentine', 'Zoe-Bloom', 'Mr.-Blaccwood', 'Slimthic-Vic', 'Kriskofficial', 'Bailey-Brooks', 'Natasha-Starr', 'Joseline-Kelly', 'Lilli-Dixon', 'Candee-Licious', 'Marie-Berger', 'Chris-Cock', 'Randy-Denmark', 'Harmonie-Marquise', 'Cali-Carter', 'Julianna-Vega', 'Kaiia-Eve', 'Mea-Melone', 'Simony-Diamond', 'Nick-Moreno', 'Wendy-Raine', 'Janet-Alfano', 'Dani-Jensen', 'Natasha-Marley', 'Valery-S', 'Krystal-Webb', \"Maddy-O'Reilly\", 'Linzee-Ryder', 'Jordan-Ash', 'Lenina-Crowne', 'Kagney-Linn-Karter', 'Daisy-Taylor', 'Luna-Love', 'Vittoria-Dolce', 'Laura-Orsolya', 'Candy-Alexa', 'Mason-Lear', 'Zoe-Sparx', 'Aila-Donovan', 'Jupiter-Jetson', 'Amber-Stark', 'Sirena-Milano', 'Lera-Murr', 'Frida-Sante', 'Lovita-Fate', 'Arteya-Dee', 'Barbara-Bieber', 'Silvia-Dellai', 'Dirty-Tina', 'Lee-Stone', 'Mal-Malloy', 'Paulo-Para', 'Ralph-Long', 'Havoc-Hailey', 'Chad-Rockwell', 'Venus-Afrodita', 'Hannah-Grace', 'Mia-Blow', 'Chloe-Lamour', 'Thomas-Stone', 'Maximo-POV', 'Ricardo-Bell', 'Tee-Reel', 'Jack-Blaque', 'Alyce-Anderson', 'Shane-Diesel', 'Ela-Stone', 'Mazzy-Grace', 'Julie-Holly', 'Sadie-Kennedy', 'Mia-Mae', 'Heather-Night', 'Riley-Grey', 'Callie-Black', 'Don-Sudan', 'Tad-Pole', 'Alice-Nice', 'Daphne-Klyde', 'Mistress-Delicious', 'Diamond-Banks', 'Barrett-Blade', 'Stacey-Sapphire', 'Lilly-Hall', 'Charlotte-Stokely', 'Jodi-West', 'Alex-Blake', 'Raven-LeChance', 'Cytheria', 'Asante-Stone', 'Tina-Fine', 'TOMMY-CABRIO-X', 'Amirah-Adara', 'Anastasia-Brokelyn', 'Alexis-Andrews', 'August-Skye', 'Mr.-Pete', 'Kris-Slater', 'Brooke-Tyler', 'Georgia-Jones', 'Alena-Croft', 'Marco-Bull', 'Apolonia-Lapiedra', 'Mandingo', 'Havana-Bleu', 'Jasmine-Vega', 'Esperanza-Gomez', 'Celtic-Iron', 'Demi-Hawks', 'Dakota-Skye', 'Jessica-Bangkok', 'Nikki-Delano', 'Leya-Falcon', 'Mackenzie-Mack', 'Alicia-Trece', 'MazeetheGoat', 'Max-Cartel', 'Nina-Kayy', 'Mila-Monet', 'Nikki-Brooks', 'Nikki-Hillton', 'Nia-Nacci', 'Lexxi-Deep', 'Cherokee', 'Jayla-Foxx', 'Jonathan-Jordan', 'Fitwife-Jewels', 'Mandy-Rae', 'Mandy-Rhea', 'Audrey-Bitoni', 'Dylan-Ryder', 'Carolyn-Reese', 'Salome-Gil', 'Sybil', 'Sierra-Nicole', 'Maserati', 'Tori-Taylor', 'Jillian-Janson', 'Bunz-Forever', 'Liza-Rowe', 'Charlie-Mac', 'Katja-Kassin', 'Katie-St-Ives', 'Carter-Cruise', 'Kiara-Marie', 'Nicky-Rebel', 'Sarah-Twain', 'Anya-Akulova', 'Stella-Cox', 'Aubrey-Black', 'Thomas-Lee', 'Carly-Rae', 'Selena-Ivy', 'Syphon-Filthy', 'Megan-Inky', 'Britt-Blair', 'Zane-Walker', 'Lainey-Baron', 'Tucker-Stevens', 'Josie-Tucker', 'Mina-Sauvage', 'Lucy-Heart', 'Zoe-Rae', 'Pressley-Carter', 'Taurus', 'Serene-Siren', 'Angie-Elif', 'Emily-Cortes', 'Nick-Morris', 'Lexi-Dona', 'Lisa-Ann', 'Ivana-Sugar', 'Anthony-Hardwood', 'Nora-Davis', 'James-Brossman', 'Angelina-Diamanti', 'Brock-Cooper', 'Nacho-Vidal', 'Milly-Dabbraccio', 'Mona-Lisa', 'Aliya-Brynn', 'Kat-Monroe', 'Moe-Johnson', 'Layla-London', 'Brannon-Rhodes', 'Lela-Star', 'Alysa-Gap', 'Allison-Miller', 'Skye-Young', 'Toni-Billl', 'CRISTINA-MILLER', 'Nikita-Bellucci', 'Matt-Ice', 'Vanessa-Decker', 'Emily-Bloom', 'Lacey-London', 'Slim-Poke', 'Jimmy-Bud', 'Taylor-Reed', 'Mia-Scarlett', 'Tori-Montana', 'Skyler-Luv', 'Julia-De-Lucia', 'Bianca-Ferrero', 'Wendy-Moon', 'Zoe-Davis', 'Antonio-Ross', 'Barbara-Voice', 'Janet-Mason', 'Alanah-Rae', 'Sea-J-Raw', 'Bobbi-Starr', 'Juan-Largo', 'Ashley-Reed', 'Bonnie-Rotten', 'Rahyndee-James', 'Hope-Howell', 'Chris-Damned', 'Jordan-Taylor', 'Luna-Lovely', 'LunaLoveXXX', 'Marco-Nero', 'John-Johnson', 'Luna-Melba', 'Nataly-Gold', 'Tomas-Hyka', 'Michael-DelRay', 'Dakota-Payne', 'Leo-Dee', 'Hazel-Dew-Aka-Mary-Frost', 'Melody-Petite', 'Ivi-Rein', 'Kathy-Anderson', 'Tiny-Tina', 'Costas-Antonis', 'Lara-Cumkitten', 'Carmella-Bing', 'Sara-Stone', 'Kara-Finley', 'Savannah-Fox', 'Lizzy-London', 'Haley-Cummings', 'Zoey-Holloway', 'Alyssa-Cole', 'Rachel-Roxxx', 'Tristyn-Kennedy', 'Kylie-Page', 'Esperanza-Del-Horno', 'Kira-Thorn', 'Monique-Woods', 'Verona-Sky', 'Peter-King', 'Stefan-Steel', 'Jason-Steel-Berlin', 'Lena-Reif', 'BabyNicols', 'Izzy-Bell', 'Marica-Hase', 'Dirk-Huge', 'Jersey-Jaxin', 'April-Brookes', 'Carmella-Diamond', 'Alison-Star', 'Heather-Honey', 'Sasha-Heart', 'Keisha-Grey', 'Casey-Ballerini', 'Alix-Lynx', 'Carmen-Valentina', 'Dani-Blu', 'Summer-Vixen', 'Alice-Visby', 'Lucia-Denvile', 'Pornfighter-Long-John', 'Shrima-Malati', 'Lexi-Layo', 'Pint-Eastwood', 'Carmela-Clutch', 'Stretch', 'Sapphire-Lapiedra', 'Amy-Amor', 'Sophie-Sparks', 'Tarzan', 'Alex-Black', 'Maddie-Winters', 'Tokyo-Lynn', 'Dillion-Harper', 'Leigh-Raven', 'Lily-Lane', 'GeishaKyd', 'Sophie-Lynx', 'Bruno-SX', 'Ada-Vera', 'Numi-Zarah', 'Cyrus-King', 'Jewels-Jade', 'Chennin-Blanc', 'Darryl-Hanah', 'Zazie-Skymm', 'Elle-Voneva', 'Asia-Lee', 'Chris-Johnson', 'Breanne-Benson', 'Rome-Major', \"April-O'Neil\", 'Kristy-Black', 'Kailani-Kai', 'Erotic-Medusa', 'Jamie-Knoxx', 'Isabella-Star', 'Stacie-Lane', 'Cherokee-D-Ass', 'Beauty-Dior', 'King-Nasir', 'Mandy-Waters', 'Derrick-Ferrari', 'Stella-Raee', 'Tyler-Faith', 'Lichelle-Marie', 'Sophia-Sutra', 'Danner-Mendez', 'Lilly-Ford', 'Charlotte-Cross', 'Kendra-Spade', 'Nadia-Jay', 'April-Snow', 'Skyler-Nicole', 'Taylor-Vixen', 'Chanell-Heart', 'Nina-Rotti', 'Mark-Ashley', 'Ms.-Yummy', 'Pinky', 'Jenner', 'Cameron-Canada', 'Lex-Steele', 'Tim-Von-Swine', 'Payton-Simmons', 'Mona-Wales', 'Charley-Hart', 'Fiona-Frost', 'Isabel-Moon', 'Crystal-Rush', 'Selvaggia-Babe', 'Sasha-Zima', 'Mary-Kalisy', 'Eufrat', 'Tess-Lyndon', 'Candice-Dare', 'Gianna-Spade', 'Porsha-Carrera', 'Brooke-Dillinger', 'Lolly-Dames', 'Lindsey-Olsen', 'Victoria-Puppy', 'Karol-Lilien', \"Addison-O'riley\", 'Brandi-Belle', 'Jack-Moore', 'Kleio-Valentien', 'Nat-Turnher', 'Salma-De-Nora', 'Larissa-Dee', 'Helena-Sweet', 'Lulu-Martinez', 'Mr-Clark', 'Charlotte-Star', 'Franceska-Jaimes', 'Assh-Lee', 'Puma-Swede', 'Dora-Venter', 'Asha-Bliss', 'Roberta-Gemma', 'Asia-Argento', 'Sofia-Gucci', 'Roxy-Ryder', 'Steve-Rickz-Gay', 'Draven-Navarro', 'Tara-Moon', 'Riley-Nixon', 'Tracey-Sweet', 'Natalia-Mendez', 'Bella-Bellz', 'Blondie-Fesser', 'Lina-Shisuta', 'Bella-Mur', 'Cara-SaintGermain', 'Mimi-Cica', 'Luca-Bella', 'Valentina-Ross', 'Adele-Sunshine', 'Lulu-Jung', 'Chrissy-Fox', 'Sharon-Lee', 'Barbara-Perez', 'Sledge-Hammer', 'Sarah-Shevon', 'Charley-Chase', 'Kelly-Divine', 'Ashli-Orion', 'Gracie-Glam', 'Kimberly-Kane', 'Zoey-Monroe', 'Nova-Brooks', 'Natalia-Starr', 'Nicole-Aniston', 'Scarlett-Fall', 'Jordan-Maxx', 'Jade-Jordan', 'Alexa-Nova-Nation-Official', 'Misha-Cross', 'Simone-Peach', 'Alexa-Payne', 'Jolie-Butt', 'Anna-Esman', 'Maya-Bee', 'Alec-Knight', 'David-Loso', 'Anthony-Rosano', 'Yurizan-Beltran', 'Austin-Taylor', 'Anikka-Albrite', 'Sofia-Rose', 'Ms-London', 'Katya-Rodriguez', 'Dillon-Day', 'Maria-Pie', 'Annie-Wolf', 'Anya-Krey', 'Isabella-De-Laa', 'Rosalina-Love', 'Stacy-Bloom', 'Leanne-Lace', 'Andy-Stone', 'Jarod-Diamond', 'Alektra-Blue', 'Simone-Sonay', 'Eden-Adams', 'Karina-White', 'Amber-Cox', 'Holly-Taylor', 'Shyla-Jennings', 'Violet-Monroe', 'Bianca-Breeze', 'Conor-Coxxx', 'Gabriela-Lopez', 'Mara-Martinez', 'July-Sun', 'Ria-Paradise', 'Manu-Magnum', 'Katrina-Moreno', 'Potro-De-Bilbao', 'Jaye-Summers', 'Paris-The-Muse', 'Abigaiil-Morris', 'Kendra-Star', 'Bella-Beretta', 'Tiffany-Doll', 'Irina-Bruni', 'Julia-Red', 'Renata-Fox', 'September-Reign', 'Lady-Lyne', 'Tia-Cyrus', 'Gia-Vendetti', 'Shay-Sights', 'Shorty-Mac', 'Phyllisha-Anne', 'Sindee-Coxx', 'Faye-Reagan', 'Nikki-Nuttz', 'June-Liu', 'Santana-Red', 'Imani-Seduction', 'Camilataylor', 'Mr-Longwood', 'Kendra-Sunderland', 'Maitland-Ward', 'Spikey-Dee', 'Melanie-Hicks', 'Natalia-Nix', 'Julz-Gotti', 'Brianna-Love', 'Daisy-Marie', 'Justice-Mooks', 'Sara-Blonde', 'Lilly-Lit', 'Daisy-Ducati', 'Kenzie-Taylor', 'Kenzie-Anne', 'Emily-Addison', 'Sizi-Sev', 'Peta-Jensen', 'Melody-Marks', 'Karlo-Karrera', 'Cameron-Cain', 'Mischa-Brooks', 'Gianna-Michaels', 'Veruca-James', 'Luna-C.-Kitsuen', 'Karla-Kush', 'Davon-Drake', 'John-Long', 'Minxx-Marley', 'Rebecca-Rainbow', 'Daniella-Margot', 'Lizi-Vogue', 'Tera-Joy', 'Adam-Black', 'Taylor-Sands', 'Sabrisse', 'Brett-Rossi', 'Mrsfeedme', 'Mandi-May', 'Mandy-May', 'Jessica-Malone', 'Henessy', 'Stacy-Cruz', 'Nathaly-Cherie', 'Angel-Piaff', 'Lilu-Moon', 'Kety-Pearl', 'Naomi-Bennet', 'Rachael-Madori', 'Kayleigh-Coxx', 'Scarlett-Wild', 'Vlad', 'Helena-Locke', 'Helena-Price', 'DANI-CLARK-OFICIAL', 'Mr-Iconic-Official', 'Sandy', 'Catalina-Cruz', 'Victoria-Red', 'Courtney-Taylor', 'Shy-Love', 'Maria-Bellucci', 'Julia-Taylor', 'Federica-Tommasi', 'Angelina-Castro', 'Sophia-Torres', 'Foxxy-Star', 'Dayna-Vendetta', 'Lynn-Love', 'Mia-Manarote', 'Dolly-Diore', 'Carol-Penelope', 'Danny-Bendochy', 'Emy-Reyes', 'Mika-Tan', 'Jasmine-Blaze', 'Penny-Pax', 'Alison-Tyler', 'Mikey-Butders', 'Sindee-Jennings', 'Roxanne-Hall', 'Jake-Malone', 'Jade-Nile', 'Kate-Kennedy', 'Annette-Schwarz', 'Scarlett-Hampton', 'Mark-White', 'Nyomi-Banxxx', 'Mary-Jane-Mayhem', 'Nadia-Ali', 'Monique-Fuentes', 'Chloe-Scott', 'Virgo-Peridot', 'Texas-Patti', 'Angie-Moon', 'Carol-Marf', 'Meana-Wolf', 'Annie-Andersin', 'Ethan-Long', 'Lana-Vegas', 'Kitty-Core', 'Angie-Savage', 'Lily-Adams', 'Heather-Vahn', 'Whitney-Westgate', 'Holly-Michaels', 'Joey-Brass', 'Joey-White', 'Joslyn-Jane', 'Payton-Hall', \"Sally-D'angelo\", 'LeoLulu', 'Ria-Sunn', 'Madeincanarias', 'Manu-Swan', 'Sheila-Ortega', 'Monica-Asis', 'Ike-Diezel', 'Chad-Diamond', 'GoGo-FukMe', 'Rusty-Nails', 'Brooke-Beretta', 'Marta-La-Croft', 'Lana-S', 'Nikky-Thorne', 'Kyra-Hot', 'Eggs-Out', 'Lady-Lynn', 'Honey-Demon', 'Luna-Mills', 'Jay-Scarman', 'Amanda-Blue', 'Cherry-Lane', 'Dru-Berrymore', 'Nikita-Denise', 'Shanna-McCullough', 'Holly-Hollywood', 'Sabien-DeMonia', 'Misha-Maver', 'Yanick-Shaft', 'Alexis-Malone', 'Jason-Katana', 'Brianna-Beach', 'Jenaveve-Jolie', 'Julian', 'Emily-Evermoore', 'Kendall-Brooks', 'Alicia-Angel', 'MrRayBlack', 'Leda-Lotharia', 'Vanessa-Phoenix', 'Alexis-Monroe', 'Venus-Lux', 'Cameron-Canela', 'Boz', 'Veronica-Vain', 'Bambi-Blacks', 'Kerry-Cherry', 'Daniella-Rose', 'Lyra-Law', 'Harmony-Cage', 'Macana-Man', 'Ophelia-Kaan', 'Hayden-Hennessy', 'Cage', 'Candice-Luca', 'Blanche-Bradburry', 'Sedona-Reign', 'Kate-England', 'Saya-Song', 'Mina-Von-D', 'Madison-Summers', 'Scarlett-Jones', 'Ramon', 'Kiki-Star', 'Helena', 'Sunny-Leone', 'Nathalia-Fontes', 'Taylor-Rain', 'Valentine-Demy', 'Monica-Roccaforte', 'Mia-Julia-VIP', 'Mujer-Luna-Bella', 'King-Noire', 'Justin-Slayer', 'Miss-Raquel', 'Angelina-Mylee', 'Jazzmine-Lopez', 'Rebel-Lynn', 'Dani-Lynn', 'Riley-Reyes', 'Tera-Patrick', 'Mimi-Miyagi', 'Kaiya-Lynn', 'Santino-Lee', 'Mika-Lee', 'Aaliyah-Love', 'Mason-Moore', 'Adrianna-Nicole', 'Vannah-Sterling', 'Jazy-Berlin', 'Danni-Cole', 'Lana-Croft', 'Eva-Angelina', 'Sammie-Rhodes', 'Naomi-Swann', 'Delilah-Strong', 'Lee-Bang', 'Taryn-Thomas', 'Chelsie-Rae', 'Dick-Nasty', 'Arnold-Schwartzenpecker', 'Naomi-Banxxx', 'Mary-Jane', 'Capitano-Eric', 'Stacy-Jay', 'Betty-Bang', 'Kendra-Kox', 'Annie-Sex-Teen', 'Sherly-Nitro', 'Charlotte-Angie', 'Violet-Starr', 'Sami-White', 'Jamie-Foster', 'Seka-Black', 'Rita-Daniels', 'Jamie-Young', 'La-Paisita-Oficial', 'FILOUFITT', 'Kat-Arina', 'Ally-Tate', 'Alexa-Grace', 'Mocha-Menage-XXX', 'Edyn-Blair', 'Princess-Emily', 'Milena', 'Miriam-More', 'Juiswildxxx', 'Alexis-Silver', 'Jay-R', 'Alyssa-Love', 'Jill-Kelly', 'Channone', 'Mike-Horner', 'Hot-Ass-Hollywood', 'Kid-Jamaica', 'Katana', 'Alexis-Amore', 'Mr-Marcus', 'Lezley-Zen', 'Farrah-Fallon', 'Samantha-Sainz', 'Lisa-Liu', 'Allison-Pierce', 'Krystal-Jordan', 'Cherry-Poppens', 'Monica-Santhiago', 'Sarah-Lace', 'Dolly-Little', 'Adrian-Hush', 'Chanel-Santini', 'Niya-Yu', 'Sasha-Grey', 'Aline', 'Kendra-James', 'Bambi-Black', 'Vincent-Vega', 'Michelle-Mclaren', 'Andrew-Marshall', 'Busty-Clary', 'Alycia-Starr', 'Billie-Star', 'Ralph-Whoren', 'Tristan-Taylor', 'Scarlet-Skies', 'Freya-Parker', 'Nina-Elle', 'Roxy-Jezel', 'Emma-Sirus', 'Max-Felicitas', 'Marykate-Moss', 'Monica-Santiago', 'Alby-Rydes', 'Mia-Hurley', 'Lena-The-Plug', 'Pike-Nelson', 'Mckenzee-Miles', 'Pinky-Lee', 'Allie-Sin', 'Hershey', 'Kat', 'Jada-Fire', 'Angel-Lee', 'Gina-Lee', 'Sloan-Harper', 'Delilah-Day', 'Mahina-Zaltana', 'Hunter-Bryce', 'Rico-Shades1', 'Rita-Faltoyano', 'Daynia', 'Keeani-Lei', 'Brooklyn', 'Avery-Cristy', 'Abby-Lee-Brazil', 'Kimber-Lee', 'Marie-Luv', 'Flower-Tucci', 'Astrid', 'Rod-Fontana', 'Brandon-Iron', 'Jay-Ashley', 'Vivian-West', 'Melissa-Lauren', 'Katin', 'Aryana-Starr', 'Mary-Rider', 'Rose-D-Kush', 'Coco-Kiss', 'Lullu-Gun', 'JASMIN-CARRERA', 'Boyd-Banks', 'Rodney-Moore', 'Amira', 'Jewels-Vega', 'Deanna-Dare', 'Tommie-Ryden', 'Cosima-Dunkin', 'DICKHDDAILY', 'Nico-Nice', 'Malena-La-Pugliese', 'Milena-Devi', 'Miriam-Prado', 'Diana-Zilli', 'Austin-Kincaid', 'Rock-The-Icon', 'Paola-Rey', 'Luke-Hardy', 'Lia-Lor', 'Molly-Manson', 'Eric-Price', 'Ariana', 'Jack-Hammer', 'Yvonne', 'Rebecca-Bardoux', 'Sandra-Luberc', 'Alexis-Love', 'Devon-Lee', 'Jean-Claude-Batiste', 'Cindy-Starfall', 'Haley-Scott', 'Jodi-James', 'Paisley-Pepper', 'Leilani-Leeane', 'Lissa-Ann', 'Farrah-Flower', 'Antonia-Sainz', 'Mia-Li', 'Taylor-Pierce', 'Sky-Pierce', 'Danny-Bliss', 'Cara-May', 'Kaycee-Dean', 'Sarah-Highlight', 'Layla-Red-Cakes', 'Celebrity-Cumms', 'Serenity-Taylor', 'Amanda-Panda-XXX', 'Chase-Arcangel', 'Aria-Kai', 'Brixley-Benz', 'Micah-Moore', 'Queen-B', 'Angel-Eyes', 'Aryana-Adin', 'Paris-Sweet', 'Vanessa-Blue', 'Layton-Benton', 'Jessie-Lee', 'Lena', 'Guy-Disilva', 'Jenna-Ivory', 'Megan-Reece', 'Katsuni', 'Dolly-Golden', 'Elodie-Cherie', 'Ovidie', 'Mya-Luanna', 'Stefany-Kyler', 'John-E-Depth', 'Chloe-Foster', 'Rick-Masters', 'Jasmine-Lopez', 'Tony-Tedeschi', 'Veronica-Jett', 'Dino-Bravo', 'Vivian-Fox', 'Regina-Ice', 'Julie-Silver', 'Veronica-Da-Souza', 'Ben-English', 'Ani-Blackfox', 'Pierre-DJ', 'Luna-Oara', 'Thor-Johnson', 'Maria-Bose', 'Breana-Khalo', 'Mina', 'Melanie-Gold', 'Oxana', 'Desiree-Deluca', 'Alia-Janine', 'Emme-White', 'Tawni-Ryden', 'Savannah-Sixx', 'Ally-Breelsen', 'Chris-Cannon', 'Brooke-Haven', 'Steve-Hooper', 'Luscious-Louis', 'Ms-Cleo', 'Lya-Missy', 'Jai-James', 'Sahara-Knite', 'Josephine-James', 'Julius-Ceazher', 'MySweetApple', 'Ariana-Van-X', 'Ariana-Aimes', 'Dieter-Von-Stein', 'Ashley-Storm', 'Destiny-Jaymes', 'Evilyn-Fierce', 'Skarlit-Knight', 'Mandy-Sky', 'Susana-Melo', 'Layla-Price', 'Kelly-Wells', 'Anna-Nova', 'Dylan-Snow', 'Jade-Kush', 'Jenny-Simons', 'Jenny-Leigh', 'Raquel-Sieb', 'Naiomi-Mae', 'Paisley-Porter', 'Leilani-Lei', 'Adrianna-Luna', 'Megan-Vaughn', 'Skin-Diamond', 'Bobbi-Dylan', 'TS-Foxxy', 'Melina-May', 'Msreadyx', 'Brittany-Benz', 'Eve-Sweet', 'Elizabeth-Bentley', 'Mya-Lovely', 'Cynthia-Pendragon', 'Kandi-Kream', 'Samantha-Faye', 'Kelly-Shibari', 'Lisa-Lipps', 'Laure-Sainclair', 'Devils-Kos', 'Naomi-Russell', 'Tia-Ling', 'Tracy-Kush', 'Roma', 'Britney-Ray', 'Tyler-Knight', 'Katarina-Kat', 'Sasha-Knox', 'Missy-Monroe', 'Leah-Luv', 'Chloe-Reese-Carter', 'Calliste', 'Karen-Kougar', 'London-Keyes', 'Arietta-Adams', 'Christina-Bella', 'Natalli-Di-Angelo', 'Mili-Jay', 'Jesse-Jane', 'Leilani-Gold', 'Alana-Rains', 'Riley-Steele', 'Jayden-Lee', 'Omar-Galanti', 'Luna-Dark', 'Jay-PlayHard', 'Theodora-Ferreri', 'AJ-Fresh', 'Madame-Amiee-Cambridge', 'Jack-Napier', 'Pocahontas', 'Sienna-West', 'Hottie-Hollie', 'Holly-Wellin', 'Holly-Sampson', 'Heidi-Mayne', 'Danika-Mori', 'Steve-Mori', 'Vanilla-Red', 'Victor-Bloom', 'Jay-Taylor', 'Odette-Delacroix', 'Allie-James', 'Courtney-Star', 'Alisha-Klass', 'Jhoanny-Wilker', 'Dominic-Ross', 'Sabrina-Banks', 'Scarlett-Sawyer', 'Dominica-Phoenix', 'Jay-Lassiter', 'Dolly-Leigh', 'Alura-TNT-Jenson', 'Jasmine-Summers', 'Camille-Amore', 'Rose-Rhapsody', 'Mia-Gold', 'Ava-Taylor', 'Alex-Grey', 'Megan-Sage', 'Megan-Marx', 'Alina-Li', 'Jessica-Torres', 'Mzbeautidoll', 'Brooke-Benz', 'Ewe-Sweet', 'Angela-Attison', 'Kodi-Gamble', 'Cherry-Lips', 'Arielle-Faye', 'Samantha-Saint', 'Ashley-Jensen', 'Christian', 'Peter-North', 'Lilienne-Li', 'Lizzy-Liques', 'Coralie', 'Lefty-Larue', 'Tone-Capone', 'Vivianne-DeSilva', 'Roma-Amor', 'Niks-Indian', 'Britney-Light', 'Aaliyah-Hadid', 'Nathan-Threat', 'Mia-Bangg', 'Brian-Pumper', 'Natasha-Vega', 'Jonny-Utah', 'Karen-Cougar', 'Suzanne-Kelly', 'Miko-Sinz', 'Evan-Rochelle', 'Keana-Moire', 'Suzie-Carina', 'Renata-Black', 'Kiera-Winters', 'Mili', 'Abella-Anderson', 'Diana-Grace', 'Rebecca-Vanguard', 'Alyssa-Branch', 'Megan-Foxx', 'Lily-Starfire', 'August', 'Kimber-Winters', 'Vanessa-Leon', 'Monique-Alexander', 'Seth-Dickens', 'Star-Nine', 'Odette-Fox', 'Russell-Grand', 'Sinn-Sage', 'Christen-Courtney', 'Luke-Hotrod', 'Pamela-Pantera', 'Carmen-Ross', 'Carmen-De-Luz', 'Jenna-J-Ross', 'Tory-Lane', 'Audrey-Hollander', 'Otto-Bauer', 'Elexis-Monroe', 'Stella-May', 'Emma-Stoned', 'Nadine-Sage', 'Nikki-Capone', 'Cassidy-Klein', 'Asa-Akira', 'Alice-Green', 'Louie-Smalls', 'Aleksa-Nicole', 'Ami-Fair', 'Rocco-Reed', 'Tory-Sweety', 'Aja', 'Trinity-Loren', 'Jon-Dough', 'Tony-Martino', 'Sophie-Reade', 'Sadie-Santana', 'Juan-Z', 'Lizzie-Love', 'Phoebe', 'Velicity-Von', 'Kate-Dee', 'The-Kiki-Daire', 'Anorei-Collins', 'Whitney-Grace', 'Mazzaratie-Monica', 'Lexxxi-Luxe', 'Savannah-Parker', 'Cassidy-Blue', 'Ayana-Angel', 'Alexa-Vega', 'Angel-Dark', 'Paula-Shy', 'Sharka-Blue', 'Christina-Jolie', 'Nessa-Devil', 'Patricia-Parisch', 'Briella-Bounce', 'Oliver-Davis', 'Mia-Moore', 'Jessie-Fontana', 'Tiffany-Thompson', 'Kimber-Woods', 'Kimber-Veils', 'Jessie-Andrews', 'Nikki-Benz', 'Ela-Darling', 'Chrissy-Marie', 'Sasha-Foxxx', 'Autumn-Rain', 'Sabrina-Jade', 'Lady-Snow-Brasil', 'Angelina-Valentine', 'Dave-Hardman', 'Brian-Surewood', 'Buster-Good', 'Ashley-Blue', 'Johnny-Thrust', 'Alberto-Rey', 'Chelsea-Zinn', 'Naudia-Nyce', 'Genesis-Skye', 'JW-Ties', 'Cody-Sky', 'Aubrey-James', 'Alannah-Monroe', 'Sage-Fox', 'Madison-Ivy', 'Amy-Reid', 'Crystal-Rae', 'Kenzie-Green', 'Allie-Haze', 'Emanuelly-Raquel', 'Silvia-Jons', 'Billy-Dee', 'Kara-Springfield', 'Savannah-Gold', 'Indica-Monroe', 'Karla-Lane', 'Platinum-Puzzy', 'Sasha-Juggs', 'Marley-Moore', 'Mandy-Majestic', 'Kacey-Parker', 'Zoe-Parker', 'Mariah-Milano', 'Leena-Sky', 'Christina-Lina', 'Tila-Flame', 'Caylian-Curtis', 'Jynx-Maze', 'Oliver-Strelly', 'Amalia-Davis', 'Sarah-Jessie', 'Tiffani-Thompson', 'Alexis-Venton', 'Malena-Morgan', 'Sammy-Strips', 'Jelena-Jensen', 'Jadilica', 'Ashley-Aspen', 'Haley-Paige', 'Envy', 'Dirty-Harry', 'Girlvert', 'Crystal-Ray', 'Paris-Gables', 'Nicole-Moore', 'Tyla-Wynn', 'Marc-Cummings', 'Rio-Mariah', 'Lauren-Phoenix', 'Ed-Powers', 'Ariel-X', 'Herb-Collins', 'Hope-Harper', 'Blair-Blackheart', 'Taylor-Raz', 'Shelby-Paige', 'Layla-Lopez', 'Stacie-Jaxxx', 'Ariana-Grand', 'Codi-Carmichael', 'Mia-Lelani', 'Penelope-Stone', 'Cyrstal-Rae', 'Kara-Faux', 'Diana-Gold', 'Kit-Lee', 'Kat-Lee', 'Kimmie-Kaboom', 'Mischievous-Kitty', 'Luna-Skye', 'Scott-Lyons', 'Shane-Blair', 'Lexi-Lapetina', 'Divinity-Love', 'Victoria-Tiffani', 'Cyrus-Blow', 'Anna-Morna', 'Aspen-Brooks', 'Aspen-Rae', 'Lani-Lane', 'Yhivi', 'Original-MILF-Hunter', 'Gabriel-Clark', 'Missy-Lou', 'Missy-Stone', 'Chiquita-Lopez', 'Kristina-Rose', 'Vanessa-Lane', 'Kelly-Kline', 'Frank-Towers', 'Agatha-Delicious', 'Sydney-Paige', 'Jade-Couture', 'Calista-Roxxx', 'Miss-LingLing', 'SHAUNDAM', 'Isabella-Taylor', 'Lara-Brookes', 'Nikki-Nirvana', 'Cayla-Lyons', 'Carla-Cox', 'Rosemary-Radeva', 'Cecilia-Scott', 'Lylith-Lavey', 'Nikki-Jade-Taylor', 'Robert-Axel', 'Naomi-Woods', 'Lanie-Morgan', 'Evie-Olson', 'Nami-Dahlia', 'Brandy-Dean', 'Tommy-Tanner', 'Ariel', 'Megan-Monroe', 'Hazel-Heart', 'Winter-Jade', 'Jade-Rose', 'Erin-Green', 'Emylia-Argan', 'Lady-Dee', 'Rihanna-Samuel', 'Tarra-White', 'Victoria-Blaze', 'Victoria-Sweet', 'Diamond-Foxxx', 'Darcia-Lee', 'Sienna-Splash', 'Natalia-Grey', 'Lindsey-Love', 'Dillon-Diaz', 'Tinslee-Reagan', 'Mark-Anthony', 'Ella-Nova', 'Marilyn-Sugar', 'Michael-Fly', 'Mia-Vendome', 'Jean-Pallett', 'Natalia-Queen', 'Mike-Love', 'Lily-Glee', 'Sidra-Sage', 'Tanner-Mayes', 'Cici-Rhodes', 'Hooks', 'Josephine-Jackson', 'Lexi-Grey', 'natasha-nice', 'johnny-sins', 'skylar-vox', 'elle-lee', 'theheffnerstrap', 'diana-rider', 'Ricky-Johnson']\n",
      "Ricky-Johnson\n",
      "0\n",
      "[[phub.User(name=Ricky-Johnson), phub.User(name=Andreina-Deluxe)]]\n",
      "1\n",
      "[[phub.User(name=Ricky-Johnson), phub.User(name=Andreina-Deluxe)], [phub.User(name=Venus), phub.User(name=Ricky-Johnson)]]\n",
      "2\n",
      "[[phub.User(name=Ricky-Johnson), phub.User(name=Andreina-Deluxe)], [phub.User(name=Venus), phub.User(name=Ricky-Johnson)], [phub.User(name=Ricky-Johnson), phub.User(name=Scarlit-Scandal)]]\n",
      "3\n",
      "[[phub.User(name=Ricky-Johnson), phub.User(name=Andreina-Deluxe)], [phub.User(name=Venus), phub.User(name=Ricky-Johnson)], [phub.User(name=Ricky-Johnson), phub.User(name=Scarlit-Scandal)], [phub.User(name=Kenna-James), phub.User(name=Ricky-Johnson)]]\n",
      "4\n",
      "[[phub.User(name=Ricky-Johnson), phub.User(name=Andreina-Deluxe)], [phub.User(name=Venus), phub.User(name=Ricky-Johnson)], [phub.User(name=Ricky-Johnson), phub.User(name=Scarlit-Scandal)], [phub.User(name=Kenna-James), phub.User(name=Ricky-Johnson)], [phub.User(name=Ricky-Johnson), phub.User(name=Andreina-Deluxe)]]\n"
     ]
    },
    {
     "ename": "KeyboardInterrupt",
     "evalue": "",
     "output_type": "error",
     "traceback": [
      "\u001b[1;31m---------------------------------------------------------------------------\u001b[0m",
      "\u001b[1;31mKeyboardInterrupt\u001b[0m                         Traceback (most recent call last)",
      "Cell \u001b[1;32mIn[5], line 116\u001b[0m\n\u001b[0;32m    114\u001b[0m \u001b[38;5;28;01mimport\u001b[39;00m \u001b[38;5;21;01msys\u001b[39;00m\n\u001b[0;32m    115\u001b[0m \u001b[38;5;28;01mif\u001b[39;00m \u001b[38;5;18m__name__\u001b[39m \u001b[38;5;241m==\u001b[39m \u001b[38;5;124m'\u001b[39m\u001b[38;5;124m__main__\u001b[39m\u001b[38;5;124m'\u001b[39m:\n\u001b[1;32m--> 116\u001b[0m     \u001b[43mmain\u001b[49m\u001b[43m(\u001b[49m\u001b[43m[\u001b[49m\u001b[38;5;241;43m0\u001b[39;49m\u001b[43m,\u001b[49m\u001b[38;5;241;43m1\u001b[39;49m\u001b[43m,\u001b[49m\u001b[38;5;241;43m5\u001b[39;49m\u001b[43m]\u001b[49m\u001b[43m)\u001b[49m\n",
      "Cell \u001b[1;32mIn[5], line 111\u001b[0m, in \u001b[0;36mmain\u001b[1;34m(argv)\u001b[0m\n\u001b[0;32m    109\u001b[0m     \u001b[38;5;28;01mwith\u001b[39;00m \u001b[38;5;28mopen\u001b[39m(\u001b[38;5;124m\"\u001b[39m\u001b[38;5;124mid_file.txt\u001b[39m\u001b[38;5;124m\"\u001b[39m, \u001b[38;5;124m'\u001b[39m\u001b[38;5;124mr\u001b[39m\u001b[38;5;124m'\u001b[39m) \u001b[38;5;28;01mas\u001b[39;00m id_file:\n\u001b[0;32m    110\u001b[0m         id_atual \u001b[38;5;241m=\u001b[39m \u001b[38;5;28mint\u001b[39m(id_file\u001b[38;5;241m.\u001b[39mread())\n\u001b[1;32m--> 111\u001b[0m     sleep(\u001b[38;5;241m1\u001b[39m)\n\u001b[0;32m    112\u001b[0m videos_participants, videos, searched_stars, pool \u001b[38;5;241m=\u001b[39m atualize_and_get(n_pool, n_videos, n_videos_participants)\n",
      "\u001b[1;31mKeyboardInterrupt\u001b[0m: "
     ]
    }
   ],
   "source": [
    "import pickle\n",
    "import phub\n",
    "from time import sleep\n",
    "\n",
    "def atualize_and_get(n_pool, n_videos, n_videos_participants):\n",
    "    with open(\"videos_file\", \"rb\") as videos_file:\n",
    "        videos = pickle.load(videos_file)\n",
    "    with open(\"videos_file\", \"wb\") as videos_file:\n",
    "        pickle.dump(videos + n_videos, videos_file)\n",
    "        \n",
    "    with open(\"searched_file\", \"rb\") as searched_file:\n",
    "        searched_stars = pickle.load(searched_file)\n",
    "        \n",
    "    print(f'n pool{n_pool}')\n",
    "\n",
    "    n_pool = [p for p in n_pool if p not in searched_stars]\n",
    "    \n",
    "    print(f'n pool{n_pool}')\n",
    "    print(f'searched{searched_stars}')\n",
    "        \n",
    "    with open(\"pool_file\", \"rb\") as pool_file:\n",
    "        pool = pickle.load(pool_file)\n",
    "    with open(\"pool_file\", \"wb\") as pool_file:\n",
    "        pickle.dump(pool + list(set(n_pool) - set(pool)),pool_file)\n",
    "        \n",
    "    with open(\"videos_participants_file\", \"rb\") as videos_participants_file:\n",
    "        videos_participants = pickle.load(videos_participants_file)\n",
    "    with open(\"videos_participants_file\", \"wb\") as videos_participants_file:\n",
    "        pickle.dump(videos_participants + n_videos_participants, videos_participants_file)\n",
    "\n",
    "    return videos_participants, videos, searched_stars, pool\n",
    "    \n",
    "def get_initials():\n",
    "    with open(\"videos_participants_file\", \"rb\") as videos_participants_file:\n",
    "        videos_participants = pickle.load(videos_participants_file)\n",
    "        \n",
    "    with open(\"videos_file\", \"rb\") as videos_file:\n",
    "        videos = pickle.load(videos_file)\n",
    "    \n",
    "    with open(\"searched_file\", \"rb\") as searched_file:\n",
    "        searched_stars = pickle.load(searched_file)\n",
    "        \n",
    "    with open(\"pool_file\", \"rb\") as pool_file:\n",
    "        pool = pickle.load(pool_file)\n",
    "        \n",
    "    return videos_participants, videos, searched_stars, pool\n",
    "\n",
    "def remove_p(p):\n",
    "    with open(\"pool_file\", \"rb\") as pool_file:\n",
    "        pool = pickle.load(pool_file)\n",
    "    pool.remove(p)\n",
    "    with open(\"pool_file\", \"wb\") as pool_file:\n",
    "        pickle.dump(pool, pool_file)\n",
    "        \n",
    "    with open(\"searched_file\", \"rb\") as searched_file:\n",
    "        searched_stars = pickle.load(searched_file)\n",
    "    searched_stars.append(p)\n",
    "    with open(\"searched_file\", \"wb\") as searched_file:\n",
    "        pickle.dump(searched_stars, searched_file)\n",
    "\n",
    "def main(argv):\n",
    "    id = int(argv[1])\n",
    "    num = int(argv[2])\n",
    "    \n",
    "    client = phub.Client(language = 'br')\n",
    "\n",
    "    id_atual = id+1\n",
    "    while id_atual != id:\n",
    "        with open(\"id_file.txt\", 'r') as id_file:\n",
    "            id_atual = int(id_file.read())\n",
    "        sleep(1)\n",
    "            \n",
    "    videos_participants, videos, searched_stars, pool = get_initials()\n",
    "\n",
    "    count = 0\n",
    "    while len(pool) != 0 and count < 2:\n",
    "        count += 1\n",
    "        p = pool[0]\n",
    "        search = client.search(p.replace('-',' '))\n",
    "\n",
    "        remove_p(p)\n",
    "        with open(\"id_file.txt\", 'w') as id_file:\n",
    "            if id+1 != num:\n",
    "                id_file.write(f'{id+1}')\n",
    "            else:\n",
    "                id_file.write('0')\n",
    "\n",
    "        print(p)\n",
    "        \n",
    "        n_pool = []\n",
    "        n_videos = []\n",
    "        n_videos_participants = []\n",
    "        \n",
    "        for v in range(5):\n",
    "            try:\n",
    "                print(v)\n",
    "                video = search.get(v)\n",
    "                pornstars = video.pornstars\n",
    "                n_videos_participants.append(pornstars)\n",
    "                n_videos.append(video)\n",
    "                for participant in pornstars:\n",
    "                    n_pool.append(participant.name)\n",
    "                print(n_pool,'stars',pornstars)\n",
    "            except phub.errors.NoResult:\n",
    "                pass\n",
    "    \n",
    "        id_atual = id+1\n",
    "        while id_atual != id:\n",
    "            with open(\"id_file.txt\", 'r') as id_file:\n",
    "                id_atual = int(id_file.read())\n",
    "            sleep(1)\n",
    "        videos_participants, videos, searched_stars, pool = atualize_and_get(n_pool, n_videos, n_videos_participants)\n",
    "    \n",
    "import sys\n",
    "if __name__ == '__main__':\n",
    "    main([0,1,5])"
   ]
  },
  {
   "cell_type": "code",
   "execution_count": null,
   "metadata": {},
   "outputs": [],
   "source": []
  }
 ],
 "metadata": {
  "kernelspec": {
   "display_name": "Python 3 (ipykernel)",
   "language": "python",
   "name": "python3"
  },
  "language_info": {
   "codemirror_mode": {
    "name": "ipython",
    "version": 3
   },
   "file_extension": ".py",
   "mimetype": "text/x-python",
   "name": "python",
   "nbconvert_exporter": "python",
   "pygments_lexer": "ipython3",
   "version": "3.11.4"
  }
 },
 "nbformat": 4,
 "nbformat_minor": 4
}
