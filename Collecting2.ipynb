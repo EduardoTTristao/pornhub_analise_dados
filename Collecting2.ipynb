{
 "cells": [
  {
   "cell_type": "code",
   "execution_count": null,
   "id": "20e6b9bc-b33d-4a80-9b10-416fc4c65f8b",
   "metadata": {},
   "outputs": [],
   "source": [
    "!pyht"
   ]
  },
  {
   "cell_type": "code",
   "execution_count": 5,
   "id": "b446d057-1b1d-4d0e-a823-b5cad0c0df53",
   "metadata": {},
   "outputs": [
    {
     "name": "stdout",
     "output_type": "stream",
     "text": [
      "quantidade coletada: 31; total: 31\n",
      "quantidade coletada: 3; total: 34\n",
      "quantidade coletada: 2; total: 36\n",
      "quantidade coletada: 2; total: 38\n",
      "quantidade coletada: 2; total: 40\n",
      "quantidade coletada: 2; total: 42\n",
      "quantidade coletada: 2; total: 44\n",
      "quantidade coletada: 2; total: 46\n",
      "quantidade coletada: 5; total: 51\n",
      "quantidade coletada: 2; total: 53\n"
     ]
    }
   ],
   "source": [
    "import subprocess\n",
    "import pickle\n",
    "with open(\"searched_file\", \"rb\") as searched_file:\n",
    "    searched = pickle.load(searched_file)\n",
    "\n",
    "antes = 0\n",
    "agora = len(searched)\n",
    "while antes < agora:\n",
    "    print(f\"quantidade coletada: {agora-antes}; total: {agora}\")\n",
    "    with open(\"searched_file\", \"rb\") as searched_file:\n",
    "        searched = pickle.load(searched_file)\n",
    "    antes = len(searched)\n",
    "    # Run the other script\n",
    "    subprocess.run([\"python\", \"collect2.py\"])\n",
    "    with open(\"searched_file\", \"rb\") as searched_file:\n",
    "        searched = pickle.load(searched_file)\n",
    "    agora = len(searched)"
   ]
  },
  {
   "cell_type": "code",
   "execution_count": 9,
   "id": "f5009f46-743e-4f00-8fab-81e79d72b4de",
   "metadata": {},
   "outputs": [
    {
     "name": "stderr",
     "output_type": "stream",
     "text": [
      "ERROR: Could not find a version that satisfies the requirement pyats (from versions: none)\n",
      "ERROR: No matching distribution found for pyats\n"
     ]
    }
   ],
   "source": [
    "!python -m pip install pyats"
   ]
  },
  {
   "cell_type": "code",
   "execution_count": null,
   "id": "6e3f623d-7af5-4325-8b42-ebf73fcd1d4e",
   "metadata": {},
   "outputs": [],
   "source": []
  }
 ],
 "metadata": {
  "kernelspec": {
   "display_name": "Python 3 (ipykernel)",
   "language": "python",
   "name": "python3"
  },
  "language_info": {
   "codemirror_mode": {
    "name": "ipython",
    "version": 3
   },
   "file_extension": ".py",
   "mimetype": "text/x-python",
   "name": "python",
   "nbconvert_exporter": "python",
   "pygments_lexer": "ipython3",
   "version": "3.11.4"
  }
 },
 "nbformat": 4,
 "nbformat_minor": 5
}
